{
 "cells": [
  {
   "cell_type": "markdown",
   "metadata": {},
   "source": [
    "## Assignements\n",
    "Les données utilisées dans ce fichier sont extraites du Flux-Rappels-Naissances-Mois-v3 dans RapidPro.\n",
    "Elles sont récupérées par le client Postman.\n",
    "Et partir de Postman on importe les données sur jupyter.\n",
    "\n",
    "Ce travail s'intéresse sur la remise des rapports de naissance des agents."
   ]
  },
  {
   "cell_type": "code",
   "execution_count": 1,
   "metadata": {},
   "outputs": [],
   "source": [
    "######Ce bloc fait partie de l\"assignement ###########\n",
    "####Définition des variables utilisées### \n",
    "#id   \n",
    "#'uuid'\n",
    "#'flow\n",
    "#'contact'\n",
    "#'start'\n",
    "#responded  \n",
    "#Values\n",
    "#confirmation_finale               \n",
    "#depassement_delai_rapportage  \n",
    "#mois_de_rappel\n",
    "#'created_on'\n",
    "#modified_on                       \n",
    "#exit_type \n",
    "#'exit_type'     "
   ]
  },
  {
   "cell_type": "markdown",
   "metadata": {},
   "source": [
    "## Extraction des données"
   ]
  },
  {
   "cell_type": "code",
   "execution_count": 2,
   "metadata": {},
   "outputs": [],
   "source": [
    "import http.client\n",
    "import mimetypes\n",
    "import json\n",
    "conn = http.client.HTTPSConnection(\"api.rapidpro.io\")\n",
    "payload = ''\n",
    "headers = {\n",
    "  'Authorization': 'Token votre_Token'\n",
    "}\n",
    "conn.request(\"GET\", \"/api/v2/runs.json?flow=e665a1b5-2b15-4de6-9d77-4521ff502fc9\", payload, headers)\n",
    "res = conn.getresponse()\n",
    "data = res.read()"
   ]
  },
  {
   "cell_type": "markdown",
   "metadata": {},
   "source": [
    "Les données sont stockées dans la variable 'data'.\n",
    "\n",
    "Voici la structure des données dans le fichier json."
   ]
  },
  {
   "cell_type": "code",
   "execution_count": 3,
   "metadata": {},
   "outputs": [
    {
     "name": "stdout",
     "output_type": "stream",
     "text": [
      "{\"next\":null,\"previous\":null,\"results\":[{\"id\":1080077027,\"uuid\":\"d8fc74f3-8c69-4a46-a738-a97a15bb36bf\",\"flow\":{\"uuid\":\"e665a1b5-2b15-4de6-9d77-4521ff502fc9\",\"name\":\"Flux-Rappels-Naissances-Mois-v3\"},\"contact\":{\"uuid\":\"753aa53c-6498-44dd-a034-30a8e76615f3\",\"urn\":\"tel:+221782806785\",\"name\":\"Lamine Balde\"},\"start\":null,\"responded\":false,\"path\":[{\"node\":\"dc534c8e-7f44-4ae0-9cf1-2d602fa390f5\",\"time\":\"2020-04-07T14:59:21.930270Z\"},{\"node\":\"c4b12b47-dd9f-43af-9d33-d6d29ee957ef\",\"time\":\"2020-04-07T14:59:21.930780Z\"},{\"node\":\"214d7574-b4a6-4404-ac9b-11b9fb9ce500\",\"time\":\"2020-04-07T14:59:21.930959Z\"}],\"values\":{\"mois_de_rappel\":{\"value\":\"Janvier\",\"category\":\"Janvier\",\"node\":\"dc534c8e-7f44-4ae0-9cf1-2d602fa390f5\",\"time\":\"2020-04-07T14:59:21.930761Z\",\"input\":\"Janvier\",\"name\":\"Mois de rappel\"}},\"created_on\":\"2020-04-07T14:59:21.930249Z\",\"modified_on\":\"2020-04-07T14:59:21.931079Z\",\"exited_on\":null,\"exit_type\":null},{\"id\":1076189376,\"uuid\":\"32d686b5-317c-45cc-8c9b-7e091d79c076\",\"flow\":{\"uuid\":\"e665a1b5-2b15-4de6-9d77-4521ff502fc9\",\"name\":\"Flux-Rappels-Naissances-Mois-v3\"},\"contact\":{\"uuid\":\"753aa53c-6498-44dd-a034-30a8e76615f3\",\"urn\":\"tel:+221782806785\",\"name\":\"Lamine Balde\"},\"start\":null,\"responded\":true,\"path\":[{\"node\":\"dc534c8e-7f44-4ae0-9cf1-2d602fa390f5\",\"time\":\"2020-04-06T12:36:48.079741Z\"},{\"node\":\"c4b12b47-dd9f-43af-9d33-d6d29ee957ef\",\"time\":\"2020-04-06T12:36:48.080080Z\"},{\"node\":\"214d7574-b4a6-4404-ac9b-11b9fb9ce500\",\"time\":\"2020-04-06T12:36:48.080192Z\"},{\"node\":\"4c004f3c-b346-4edd-b561-67be61e61f4c\",\"time\":\"2020-04-06T12:37:56.334916Z\"},{\"node\":\"d539c831-c52b-4cdc-ad6a-ecec29b3d212\",\"time\":\"2020-04-06T12:37:56.335218Z\"},{\"node\":\"7c14ad67-230e-41a4-87cb-6495cb62b99a\",\"time\":\"2020-04-06T12:37:56.335464Z\"},{\"node\":\"593e9803-0e3a-4ead-9f10-d381596cd46e\",\"time\":\"2020-04-06T12:37:56.335577Z\"},{\"node\":\"680ff8d7-f629-4f9c-8896-93daa05b0140\",\"time\":\"2020-04-06T12:38:40.166410Z\"},{\"node\":\"5d0bd4cd-f7fa-4ed9-bb06-c073f758510e\",\"time\":\"2020-04-06T12:38:40.167036Z\"},{\"node\":\"a4478fed-6c73-4387-821e-e528c888d3ec\",\"time\":\"2020-04-06T12:38:40.167582Z\"},{\"node\":\"6eda4f3b-3303-4d7b-8226-1ac1057f2bae\",\"time\":\"2020-04-06T12:38:40.167807Z\"},{\"node\":\"863a3653-f571-453d-9334-bd44d386b10d\",\"time\":\"2020-04-06T12:40:56.566520Z\"},{\"node\":\"0cd49cee-13a7-4053-b9cd-c86fec33df24\",\"time\":\"2020-04-06T12:40:56.567028Z\"},{\"node\":\"5e4ad7e2-5413-4bef-8fbd-81645e059298\",\"time\":\"2020-04-06T12:40:56.567483Z\"},{\"node\":\"f8dbcb8a-053c-43c0-a426-3563f75ba0a7\",\"time\":\"2020-04-06T12:40:56.567663Z\"},{\"node\":\"b13566d5-109e-437c-b3f2-3d65c5d69db8\",\"time\":\"2020-04-06T12:41:34.896524Z\"},{\"node\":\"2cc1c121-0af1-4e67-a84b-7205e048c773\",\"time\":\"2020-04-06T12:41:34.897043Z\"},{\"node\":\"98883221-bc88-4290-8e5a-ac7305ecce5b\",\"time\":\"2020-04-06T12:41:34.897500Z\"},{\"node\":\"68e1808c-3052-4831-a58e-3d8e2c41d6ae\",\"time\":\"2020-04-06T12:41:34.898998Z\"},{\"node\":\"a38976f1-a939-4450-9172-943293bb3d65\",\"time\":\"2020-04-06T12:42:20.968132Z\"},{\"node\":\"5523a546-a2da-4a6a-be46-dab3fb3d036d\",\"time\":\"2020-04-06T12:42:20.968187Z\"}],\"values\":{\"confirmation_finale\":{\"value\":\"OUI O\",\"category\":\"confirmation\",\"node\":\"68e1808c-3052-4831-a58e-3d8e2c41d6ae\",\"time\":\"2020-04-06T12:42:20.968113Z\",\"input\":\"OUI  O\",\"name\":\"Confirmation finale\"},\"filles_nees_dans_annee_en_cours_enregistrees_mois_precedent\":{\"value\":\"15\",\"category\":\"nombre\",\"node\":\"863a3653-f571-453d-9334-bd44d386b10d\",\"time\":\"2020-04-06T12:40:56.566999Z\",\"input\":\"15\",\"name\":\"filles nees dans annee en cours enregistrees mois precedent\"},\"filles_regularisees_dans_le_mois_precedent\":{\"value\":\"0\",\"category\":\"nombre\",\"node\":\"b13566d5-109e-437c-b3f2-3d65c5d69db8\",\"time\":\"2020-04-06T12:41:34.897021Z\",\"input\":\"0\",\"name\":\"filles regularisees dans le mois precedent\"},\"garcons_nes_dans_annee_en_cours_enregistres_mois_precedent\":{\"value\":\"13\",\"category\":\"nombre\",\"node\":\"0cd49cee-13a7-4053-b9cd-c86fec33df24\",\"time\":\"2020-04-06T12:40:56.567458Z\",\"input\":\"13\",\"name\":\"garcons nes dans annee en cours enregistres mois precedent\"},\"garcons_regularises_dans_le_mois_precedent\":{\"value\":\"0\",\"category\":\"nombre\",\"node\":\"2cc1c121-0af1-4e67-a84b-7205e048c773\",\"time\":\"2020-04-06T12:41:34.897478Z\",\"input\":\"0\",\"name\":\"garcons regularises dans le mois precedent\"},\"mois_de_rappel\":{\"value\":\"Fevrier\",\"category\":\"Fevrier\",\"node\":\"dc534c8e-7f44-4ae0-9cf1-2d602fa390f5\",\"time\":\"2020-04-06T12:36:48.080066Z\",\"input\":\"Fevrier\",\"name\":\"Mois de rappel\"},\"total_de_filles_avec_volet_1_mois_precedents\":{\"value\":\"15\",\"category\":\"nombre\",\"node\":\"680ff8d7-f629-4f9c-8896-93daa05b0140\",\"time\":\"2020-04-06T12:38:40.167012Z\",\"input\":\"15\",\"name\":\"Total de filles avec volet 1 mois precedents\"},\"total_de_garcons_avec_volets_1_mois_precedents\":{\"value\":\"13\",\"category\":\"nombre\",\"node\":\"5d0bd4cd-f7fa-4ed9-bb06-c073f758510e\",\"time\":\"2020-04-06T12:38:40.167559Z\",\"input\":\"13\",\"name\":\"Total de garcons avec volets 1 mois precedents\"},\"total_enfants_enregistres_mois_precedent\":{\"value\":\"F 15 G 13\",\"category\":\"valide\",\"node\":\"214d7574-b4a6-4404-ac9b-11b9fb9ce500\",\"time\":\"2020-04-06T12:37:56.334878Z\",\"input\":\"F 15 G 13\",\"name\":\"Total enfants enregistres mois precedent\"},\"total_enfants_nes_dans_annee_en_cours_enregistres_mois_precedent\":{\"value\":\"F 15 G 13\",\"category\":\"valide\",\"node\":\"6eda4f3b-3303-4d7b-8226-1ac1057f2bae\",\"time\":\"2020-04-06T12:40:56.566455Z\",\"input\":\"F 15 G 13\",\"name\":\"Total enfants nes dans annee en cours enregistres mois precedent\"},\"total_enfants_regularises_dans_le_mois_precedent\":{\"value\":\"F 0 G 0\",\"category\":\"valide\",\"node\":\"f8dbcb8a-053c-43c0-a426-3563f75ba0a7\",\"time\":\"2020-04-06T12:41:34.896467Z\",\"input\":\"F 0 G 0\",\"name\":\"Total enfants regularises dans le mois precedent\"},\"total_filles_enregistres_mois_precedent\":{\"value\":\"15\",\"category\":\"Nombre\",\"node\":\"4c004f3c-b346-4edd-b561-67be61e61f4c\",\"time\":\"2020-04-06T12:37:56.335203Z\",\"input\":\"15\",\"name\":\"Total Filles Enregistres Mois Precedent\"},\"total_garcons_enregistres_mois_precedents\":{\"value\":\"13\",\"category\":\"Nombre\",\"node\":\"d539c831-c52b-4cdc-ad6a-ecec29b3d212\",\"time\":\"2020-04-06T12:37:56.335449Z\",\"input\":\"13\",\"name\":\"Total Garcons Enregistres Mois Precedents\"},\"total_volets_1_delivres_mois_precedents\":{\"value\":\"F 15 G 13\",\"category\":\"valide\",\"node\":\"593e9803-0e3a-4ead-9f10-d381596cd46e\",\"time\":\"2020-04-06T12:38:40.166314Z\",\"input\":\"F 15 G 13\",\"name\":\"total volets 1 delivres mois precedents\"}},\"created_on\":\"2020-04-06T12:36:48.079726Z\",\"modified_on\":\"2020-04-06T12:42:21.021157Z\",\"exited_on\":\"2020-04-06T12:42:21.019112Z\",\"exit_type\":\"completed\"},{\"id\":1046183665,\"uuid\":\"e5188f13-90b2-4d59-a078-3a386c4c7ca8\",\"flow\":{\"uuid\":\"e665a1b5-2b15-4de6-9d77-4521ff502fc9\",\"name\":\"Flux-Rappels-Naissances-Mois-v3\"},\"contact\":{\"uuid\":\"125f43a1-3802-483c-98a7-a1ac8b17c5c5\",\"urn\":\"tel:+221778075147\",\"name\":\"Ahmet Khouma\"},\"start\":null,\"responded\":true,\"path\":[{\"node\":\"dc534c8e-7f44-4ae0-9cf1-2d602fa390f5\",\"time\":\"2020-03-12T12:07:42.433071Z\"},{\"node\":\"c4b12b47-dd9f-43af-9d33-d6d29ee957ef\",\"time\":\"2020-03-12T12:07:42.433439Z\"},{\"node\":\"214d7574-b4a6-4404-ac9b-11b9fb9ce500\",\"time\":\"2020-03-12T12:07:42.433551Z\"},{\"node\":\"4c004f3c-b346-4edd-b561-67be61e61f4c\",\"time\":\"2020-03-12T12:08:12.048371Z\"},{\"node\":\"d539c831-c52b-4cdc-ad6a-ecec29b3d212\",\"time\":\"2020-03-12T12:08:12.048686Z\"},{\"node\":\"7c14ad67-230e-41a4-87cb-6495cb62b99a\",\"time\":\"2020-03-12T12:08:12.048962Z\"},{\"node\":\"593e9803-0e3a-4ead-9f10-d381596cd46e\",\"time\":\"2020-03-12T12:08:12.049095Z\"},{\"node\":\"680ff8d7-f629-4f9c-8896-93daa05b0140\",\"time\":\"2020-03-12T12:08:49.464657Z\"},{\"node\":\"5d0bd4cd-f7fa-4ed9-bb06-c073f758510e\",\"time\":\"2020-03-12T12:08:49.465138Z\"},{\"node\":\"a4478fed-6c73-4387-821e-e528c888d3ec\",\"time\":\"2020-03-12T12:08:49.465639Z\"},{\"node\":\"6eda4f3b-3303-4d7b-8226-1ac1057f2bae\",\"time\":\"2020-03-12T12:08:49.465828Z\"},{\"node\":\"863a3653-f571-453d-9334-bd44d386b10d\",\"time\":\"2020-03-12T12:09:15.704656Z\"},{\"node\":\"0cd49cee-13a7-4053-b9cd-c86fec33df24\",\"time\":\"2020-03-12T12:09:15.704955Z\"},{\"node\":\"5e4ad7e2-5413-4bef-8fbd-81645e059298\",\"time\":\"2020-03-12T12:09:15.705205Z\"},{\"node\":\"f8dbcb8a-053c-43c0-a426-3563f75ba0a7\",\"time\":\"2020-03-12T12:09:15.705320Z\"},{\"node\":\"b13566d5-109e-437c-b3f2-3d65c5d69db8\",\"time\":\"2020-03-12T12:09:42.904672Z\"},{\"node\":\"2cc1c121-0af1-4e67-a84b-7205e048c773\",\"time\":\"2020-03-12T12:09:42.905161Z\"},{\"node\":\"98883221-bc88-4290-8e5a-ac7305ecce5b\",\"time\":\"2020-03-12T12:09:42.905622Z\"},{\"node\":\"68e1808c-3052-4831-a58e-3d8e2c41d6ae\",\"time\":\"2020-03-12T12:09:42.907040Z\"},{\"node\":\"a38976f1-a939-4450-9172-943293bb3d65\",\"time\":\"2020-03-12T12:10:06.551752Z\"},{\"node\":\"5523a546-a2da-4a6a-be46-dab3fb3d036d\",\"time\":\"2020-03-12T12:10:06.551820Z\"}],\"values\":{\"confirmation_finale\":{\"value\":\"Oui\",\"category\":\"confirmation\",\"node\":\"68e1808c-3052-4831-a58e-3d8e2c41d6ae\",\"time\":\"2020-03-12T12:10:06.551724Z\",\"input\":\"Oui\",\"name\":\"Confirmation finale\"},\"filles_nees_dans_annee_en_cours_enregistrees_mois_precedent\":{\"value\":\"10\",\"category\":\"nombre\",\"node\":\"863a3653-f571-453d-9334-bd44d386b10d\",\"time\":\"2020-03-12T12:09:15.704937Z\",\"input\":\"10\",\"name\":\"filles nees dans annee en cours enregistrees mois precedent\"},\"filles_regularisees_dans_le_mois_precedent\":{\"value\":\"25\",\"category\":\"nombre\",\"node\":\"b13566d5-109e-437c-b3f2-3d65c5d69db8\",\"time\":\"2020-03-12T12:09:42.905139Z\",\"input\":\"25\",\"name\":\"filles regularisees dans le mois precedent\"},\"garcons_nes_dans_annee_en_cours_enregistres_mois_precedent\":{\"value\":\"4\",\"category\":\"nombre\",\"node\":\"0cd49cee-13a7-4053-b9cd-c86fec33df24\",\"time\":\"2020-03-12T12:09:15.705190Z\",\"input\":\"4\",\"name\":\"garcons nes dans annee en cours enregistres mois precedent\"},\"garcons_regularises_dans_le_mois_precedent\":{\"value\":\"14\",\"category\":\"nombre\",\"node\":\"2cc1c121-0af1-4e67-a84b-7205e048c773\",\"time\":\"2020-03-12T12:09:42.905600Z\",\"input\":\"14\",\"name\":\"garcons regularises dans le mois precedent\"},\"mois_de_rappel\":{\"value\":\"Janvier\",\"category\":\"Janvier\",\"node\":\"dc534c8e-7f44-4ae0-9cf1-2d602fa390f5\",\"time\":\"2020-03-12T12:07:42.433424Z\",\"input\":\"Janvier\",\"name\":\"Mois de rappel\"},\"total_de_filles_avec_volet_1_mois_precedents\":{\"value\":\"35\",\"category\":\"nombre\",\"node\":\"680ff8d7-f629-4f9c-8896-93daa05b0140\",\"time\":\"2020-03-12T12:08:49.465113Z\",\"input\":\"35\",\"name\":\"Total de filles avec volet 1 mois precedents\"},\"total_de_garcons_avec_volets_1_mois_precedents\":{\"value\":\"19\",\"category\":\"nombre\",\"node\":\"5d0bd4cd-f7fa-4ed9-bb06-c073f758510e\",\"time\":\"2020-03-12T12:08:49.465612Z\",\"input\":\"19\",\"name\":\"Total de garcons avec volets 1 mois precedents\"},\"total_enfants_enregistres_mois_precedent\":{\"value\":\"F 35 g 19\",\"category\":\"valide\",\"node\":\"214d7574-b4a6-4404-ac9b-11b9fb9ce500\",\"time\":\"2020-03-12T12:08:12.048324Z\",\"input\":\"F 35 g 19\",\"name\":\"Total enfants enregistres mois precedent\"},\"total_enfants_nes_dans_annee_en_cours_enregistres_mois_precedent\":{\"value\":\"F 10 g 4\",\"category\":\"valide\",\"node\":\"6eda4f3b-3303-4d7b-8226-1ac1057f2bae\",\"time\":\"2020-03-12T12:09:15.704616Z\",\"input\":\"F 10 g 4\",\"name\":\"Total enfants nes dans annee en cours enregistres mois precedent\"},\"total_enfants_regularises_dans_le_mois_precedent\":{\"value\":\"F 25 g 14\",\"category\":\"valide\",\"node\":\"f8dbcb8a-053c-43c0-a426-3563f75ba0a7\",\"time\":\"2020-03-12T12:09:42.904615Z\",\"input\":\"F 25 g 14\",\"name\":\"Total enfants regularises dans le mois precedent\"},\"total_filles_enregistres_mois_precedent\":{\"value\":\"35\",\"category\":\"Nombre\",\"node\":\"4c004f3c-b346-4edd-b561-67be61e61f4c\",\"time\":\"2020-03-12T12:08:12.048671Z\",\"input\":\"35\",\"name\":\"Total Filles Enregistres Mois Precedent\"},\"total_garcons_enregistres_mois_precedents\":{\"value\":\"19\",\"category\":\"Nombre\",\"node\":\"d539c831-c52b-4cdc-ad6a-ecec29b3d212\",\"time\":\"2020-03-12T12:08:12.048947Z\",\"input\":\"19\",\"name\":\"Total Garcons Enregistres Mois Precedents\"},\"total_volets_1_delivres_mois_precedents\":{\"value\":\"F 35 g 19\",\"category\":\"valide\",\"node\":\"593e9803-0e3a-4ead-9f10-d381596cd46e\",\"time\":\"2020-03-12T12:08:49.464590Z\",\"input\":\"F 35 g 19\",\"name\":\"total volets 1 delivres mois precedents\"}},\"created_on\":\"2020-03-12T12:07:42.433051Z\",\"modified_on\":\"2020-03-12T12:10:06.565197Z\",\"exited_on\":\"2020-03-12T12:10:06.561831Z\",\"exit_type\":\"completed\"},{\"id\":1045785646,\"uuid\":\"b30f7e8b-c03e-4712-a50d-6099c1d70153\",\"flow\":{\"uuid\":\"e665a1b5-2b15-4de6-9d77-4521ff502fc9\",\"name\":\"Flux-Rappels-Naissances-Mois-v3\"},\"contact\":{\"uuid\":\"94b1e99d-81f4-49a5-9cb5-026f34783c28\",\"urn\":\"tel:+221770463545\",\"name\":\"Mamadou Malado Sylla\"},\"start\":null,\"responded\":true,\"path\":[{\"node\":\"dc534c8e-7f44-4ae0-9cf1-2d602fa390f5\",\"time\":\"2020-03-11T10:11:28.856801Z\"},{\"node\":\"c4b12b47-dd9f-43af-9d33-d6d29ee957ef\",\"time\":\"2020-03-11T10:11:28.857072Z\"},{\"node\":\"214d7574-b4a6-4404-ac9b-11b9fb9ce500\",\"time\":\"2020-03-11T10:11:28.857175Z\"},{\"node\":\"4c004f3c-b346-4edd-b561-67be61e61f4c\",\"time\":\"2020-03-11T10:12:39.549977Z\"},{\"node\":\"d539c831-c52b-4cdc-ad6a-ecec29b3d212\",\"time\":\"2020-03-11T10:12:39.550266Z\"},{\"node\":\"7c14ad67-230e-41a4-87cb-6495cb62b99a\",\"time\":\"2020-03-11T10:12:39.550543Z\"},{\"node\":\"593e9803-0e3a-4ead-9f10-d381596cd46e\",\"time\":\"2020-03-11T10:12:39.550650Z\"},{\"node\":\"680ff8d7-f629-4f9c-8896-93daa05b0140\",\"time\":\"2020-03-11T10:13:24.319501Z\"},{\"node\":\"5d0bd4cd-f7fa-4ed9-bb06-c073f758510e\",\"time\":\"2020-03-11T10:13:24.319807Z\"},{\"node\":\"a4478fed-6c73-4387-821e-e528c888d3ec\",\"time\":\"2020-03-11T10:13:24.320059Z\"},{\"node\":\"6eda4f3b-3303-4d7b-8226-1ac1057f2bae\",\"time\":\"2020-03-11T10:13:24.320173Z\"},{\"node\":\"863a3653-f571-453d-9334-bd44d386b10d\",\"time\":\"2020-03-11T10:15:27.841088Z\"},{\"node\":\"0cd49cee-13a7-4053-b9cd-c86fec33df24\",\"time\":\"2020-03-11T10:15:27.841391Z\"},{\"node\":\"5e4ad7e2-5413-4bef-8fbd-81645e059298\",\"time\":\"2020-03-11T10:15:27.841656Z\"},{\"node\":\"f8dbcb8a-053c-43c0-a426-3563f75ba0a7\",\"time\":\"2020-03-11T10:15:27.841782Z\"},{\"node\":\"b13566d5-109e-437c-b3f2-3d65c5d69db8\",\"time\":\"2020-03-11T10:16:19.366704Z\"},{\"node\":\"2cc1c121-0af1-4e67-a84b-7205e048c773\",\"time\":\"2020-03-11T10:16:19.367053Z\"},{\"node\":\"98883221-bc88-4290-8e5a-ac7305ecce5b\",\"time\":\"2020-03-11T10:16:19.367319Z\"},{\"node\":\"68e1808c-3052-4831-a58e-3d8e2c41d6ae\",\"time\":\"2020-03-11T10:16:19.368043Z\"},{\"node\":\"a38976f1-a939-4450-9172-943293bb3d65\",\"time\":\"2020-03-11T10:17:11.210919Z\"},{\"node\":\"5523a546-a2da-4a6a-be46-dab3fb3d036d\",\"time\":\"2020-03-11T10:17:11.210958Z\"}],\"values\":{\"confirmation_finale\":{\"value\":\"Oui\",\"category\":\"confirmation\",\"node\":\"68e1808c-3052-4831-a58e-3d8e2c41d6ae\",\"time\":\"2020-03-11T10:17:11.210902Z\",\"input\":\"Oui\",\"name\":\"Confirmation finale\"},\"filles_nees_dans_annee_en_cours_enregistrees_mois_precedent\":{\"value\":\"6\",\"category\":\"nombre\",\"node\":\"863a3653-f571-453d-9334-bd44d386b10d\",\"time\":\"2020-03-11T10:15:27.841373Z\",\"input\":\"6\",\"name\":\"filles nees dans annee en cours enregistrees mois precedent\"},\"filles_regularisees_dans_le_mois_precedent\":{\"value\":\"2\",\"category\":\"nombre\",\"node\":\"b13566d5-109e-437c-b3f2-3d65c5d69db8\",\"time\":\"2020-03-11T10:16:19.367038Z\",\"input\":\"2\",\"name\":\"filles regularisees dans le mois precedent\"},\"garcons_nes_dans_annee_en_cours_enregistres_mois_precedent\":{\"value\":\"6\",\"category\":\"nombre\",\"node\":\"0cd49cee-13a7-4053-b9cd-c86fec33df24\",\"time\":\"2020-03-11T10:15:27.841640Z\",\"input\":\"6\",\"name\":\"garcons nes dans annee en cours enregistres mois precedent\"},\"garcons_regularises_dans_le_mois_precedent\":{\"value\":\"1\",\"category\":\"nombre\",\"node\":\"2cc1c121-0af1-4e67-a84b-7205e048c773\",\"time\":\"2020-03-11T10:16:19.367304Z\",\"input\":\"1\",\"name\":\"garcons regularises dans le mois precedent\"},\"mois_de_rappel\":{\"value\":\"Janvier\",\"category\":\"Janvier\",\"node\":\"dc534c8e-7f44-4ae0-9cf1-2d602fa390f5\",\"time\":\"2020-03-11T10:11:28.857059Z\",\"input\":\"Janvier\",\"name\":\"Mois de rappel\"},\"total_de_filles_avec_volet_1_mois_precedents\":{\"value\":\"25\",\"category\":\"nombre\",\"node\":\"680ff8d7-f629-4f9c-8896-93daa05b0140\",\"time\":\"2020-03-11T10:13:24.319792Z\",\"input\":\"25\",\"name\":\"Total de filles avec volet 1 mois precedents\"},\"total_de_garcons_avec_volets_1_mois_precedents\":{\"value\":\"17\",\"category\":\"nombre\",\"node\":\"5d0bd4cd-f7fa-4ed9-bb06-c073f758510e\",\"time\":\"2020-03-11T10:13:24.320044Z\",\"input\":\"17\",\"name\":\"Total de garcons avec volets 1 mois precedents\"},\"total_enfants_enregistres_mois_precedent\":{\"value\":\"F 25 G 17\",\"category\":\"valide\",\"node\":\"214d7574-b4a6-4404-ac9b-11b9fb9ce500\",\"time\":\"2020-03-11T10:12:39.549936Z\",\"input\":\"F 25 G 17\",\"name\":\"Total enfants enregistres mois precedent\"},\"total_enfants_nes_dans_annee_en_cours_enregistres_mois_precedent\":{\"value\":\"F 6 G 6\",\"category\":\"valide\",\"node\":\"6eda4f3b-3303-4d7b-8226-1ac1057f2bae\",\"time\":\"2020-03-11T10:15:27.841051Z\",\"input\":\"F 6 G 6\",\"name\":\"Total enfants nes dans annee en cours enregistres mois precedent\"},\"total_enfants_regularises_dans_le_mois_precedent\":{\"value\":\"F 2 G 1\",\"category\":\"valide\",\"node\":\"f8dbcb8a-053c-43c0-a426-3563f75ba0a7\",\"time\":\"2020-03-11T10:16:19.366670Z\",\"input\":\"F 2 G 1\",\"name\":\"Total enfants regularises dans le mois precedent\"},\"total_filles_enregistres_mois_precedent\":{\"value\":\"25\",\"category\":\"Nombre\",\"node\":\"4c004f3c-b346-4edd-b561-67be61e61f4c\",\"time\":\"2020-03-11T10:12:39.550252Z\",\"input\":\"25\",\"name\":\"Total Filles Enregistres Mois Precedent\"},\"total_garcons_enregistres_mois_precedents\":{\"value\":\"17\",\"category\":\"Nombre\",\"node\":\"d539c831-c52b-4cdc-ad6a-ecec29b3d212\",\"time\":\"2020-03-11T10:12:39.550529Z\",\"input\":\"17\",\"name\":\"Total Garcons Enregistres Mois Precedents\"},\"total_volets_1_delivres_mois_precedents\":{\"value\":\"F 25 G 17\",\"category\":\"valide\",\"node\":\"593e9803-0e3a-4ead-9f10-d381596cd46e\",\"time\":\"2020-03-11T10:13:24.319465Z\",\"input\":\"F 25 G 17\",\"name\":\"total volets 1 delivres mois precedents\"}},\"created_on\":\"2020-03-11T10:11:28.856786Z\",\"modified_on\":\"2020-03-11T10:17:11.240672Z\",\"exited_on\":\"2020-03-11T10:17:11.239094Z\",\"exit_type\":\"completed\"},{\"id\":1045678295,\"uuid\":\"1e69b35d-c20f-4163-af1b-f7285d715af9\",\"flow\":{\"uuid\":\"e665a1b5-2b15-4de6-9d77-4521ff502fc9\",\"name\":\"Flux-Rappels-Naissances-Mois-v3\"},\"contact\":{\"uuid\":\"4e4229dd-a938-4546-b783-fa77b816e9e5\",\"urn\":\"tel:+221773576816\",\"name\":\"Fatou Kine Gueye\"},\"start\":null,\"responded\":true,\"path\":[{\"node\":\"dc534c8e-7f44-4ae0-9cf1-2d602fa390f5\",\"time\":\"2020-03-10T17:13:49.597699Z\"},{\"node\":\"c4b12b47-dd9f-43af-9d33-d6d29ee957ef\",\"time\":\"2020-03-10T17:13:49.597990Z\"},{\"node\":\"214d7574-b4a6-4404-ac9b-11b9fb9ce500\",\"time\":\"2020-03-10T17:13:49.598088Z\"},{\"node\":\"4c004f3c-b346-4edd-b561-67be61e61f4c\",\"time\":\"2020-03-10T17:14:33.209745Z\"},{\"node\":\"d539c831-c52b-4cdc-ad6a-ecec29b3d212\",\"time\":\"2020-03-10T17:14:33.210029Z\"},{\"node\":\"7c14ad67-230e-41a4-87cb-6495cb62b99a\",\"time\":\"2020-03-10T17:14:33.210279Z\"},{\"node\":\"593e9803-0e3a-4ead-9f10-d381596cd46e\",\"time\":\"2020-03-10T17:14:33.210415Z\"},{\"node\":\"680ff8d7-f629-4f9c-8896-93daa05b0140\",\"time\":\"2020-03-10T17:15:08.035336Z\"},{\"node\":\"5d0bd4cd-f7fa-4ed9-bb06-c073f758510e\",\"time\":\"2020-03-10T17:15:08.035915Z\"},{\"node\":\"a4478fed-6c73-4387-821e-e528c888d3ec\",\"time\":\"2020-03-10T17:15:08.036351Z\"},{\"node\":\"6eda4f3b-3303-4d7b-8226-1ac1057f2bae\",\"time\":\"2020-03-10T17:15:08.036533Z\"},{\"node\":\"863a3653-f571-453d-9334-bd44d386b10d\",\"time\":\"2020-03-10T17:16:13.283921Z\"},{\"node\":\"0cd49cee-13a7-4053-b9cd-c86fec33df24\",\"time\":\"2020-03-10T17:16:13.284218Z\"},{\"node\":\"5e4ad7e2-5413-4bef-8fbd-81645e059298\",\"time\":\"2020-03-10T17:16:13.284472Z\"},{\"node\":\"f8dbcb8a-053c-43c0-a426-3563f75ba0a7\",\"time\":\"2020-03-10T17:16:13.284586Z\"},{\"node\":\"b13566d5-109e-437c-b3f2-3d65c5d69db8\",\"time\":\"2020-03-10T17:17:05.460268Z\"},{\"node\":\"2cc1c121-0af1-4e67-a84b-7205e048c773\",\"time\":\"2020-03-10T17:17:05.460587Z\"},{\"node\":\"98883221-bc88-4290-8e5a-ac7305ecce5b\",\"time\":\"2020-03-10T17:17:05.460866Z\"},{\"node\":\"68e1808c-3052-4831-a58e-3d8e2c41d6ae\",\"time\":\"2020-03-10T17:17:05.461617Z\"},{\"node\":\"a38976f1-a939-4450-9172-943293bb3d65\",\"time\":\"2020-03-10T17:17:34.421596Z\"},{\"node\":\"5523a546-a2da-4a6a-be46-dab3fb3d036d\",\"time\":\"2020-03-10T17:17:34.421625Z\"}],\"values\":{\"confirmation_finale\":{\"value\":\"Oui\",\"category\":\"confirmation\",\"node\":\"68e1808c-3052-4831-a58e-3d8e2c41d6ae\",\"time\":\"2020-03-10T17:17:34.421581Z\",\"input\":\"Oui\",\"name\":\"Confirmation finale\"},\"filles_nees_dans_annee_en_cours_enregistrees_mois_precedent\":{\"value\":\"80\",\"category\":\"nombre\",\"node\":\"863a3653-f571-453d-9334-bd44d386b10d\",\"time\":\"2020-03-10T17:16:13.284201Z\",\"input\":\"80\",\"name\":\"filles nees dans annee en cours enregistrees mois precedent\"},\"filles_regularisees_dans_le_mois_precedent\":{\"value\":\"58\",\"category\":\"nombre\",\"node\":\"b13566d5-109e-437c-b3f2-3d65c5d69db8\",\"time\":\"2020-03-10T17:17:05.460573Z\",\"input\":\"58\",\"name\":\"filles regularisees dans le mois precedent\"},\"garcons_nes_dans_annee_en_cours_enregistres_mois_precedent\":{\"value\":\"76\",\"category\":\"nombre\",\"node\":\"0cd49cee-13a7-4053-b9cd-c86fec33df24\",\"time\":\"2020-03-10T17:16:13.284457Z\",\"input\":\"76\",\"name\":\"garcons nes dans annee en cours enregistres mois precedent\"},\"garcons_regularises_dans_le_mois_precedent\":{\"value\":\"76\",\"category\":\"nombre\",\"node\":\"2cc1c121-0af1-4e67-a84b-7205e048c773\",\"time\":\"2020-03-10T17:17:05.460852Z\",\"input\":\"76\",\"name\":\"garcons regularises dans le mois precedent\"},\"mois_de_rappel\":{\"value\":\"Fevrier\",\"category\":\"Fevrier\",\"node\":\"dc534c8e-7f44-4ae0-9cf1-2d602fa390f5\",\"time\":\"2020-03-10T17:13:49.597977Z\",\"input\":\"Fevrier\",\"name\":\"Mois de rappel\"},\"total_de_filles_avec_volet_1_mois_precedents\":{\"value\":\"0\",\"category\":\"nombre\",\"node\":\"680ff8d7-f629-4f9c-8896-93daa05b0140\",\"time\":\"2020-03-10T17:15:08.035891Z\",\"input\":\"0\",\"name\":\"Total de filles avec volet 1 mois precedents\"},\"total_de_garcons_avec_volets_1_mois_precedents\":{\"value\":\"0\",\"category\":\"nombre\",\"node\":\"5d0bd4cd-f7fa-4ed9-bb06-c073f758510e\",\"time\":\"2020-03-10T17:15:08.036327Z\",\"input\":\"0\",\"name\":\"Total de garcons avec volets 1 mois precedents\"},\"total_enfants_enregistres_mois_precedent\":{\"value\":\"F 170 g 194\",\"category\":\"valide\",\"node\":\"214d7574-b4a6-4404-ac9b-11b9fb9ce500\",\"time\":\"2020-03-10T17:14:33.209707Z\",\"input\":\"F 170 g 194\",\"name\":\"Total enfants enregistres mois precedent\"},\"total_enfants_nes_dans_annee_en_cours_enregistres_mois_precedent\":{\"value\":\"F 80 g 76\",\"category\":\"valide\",\"node\":\"6eda4f3b-3303-4d7b-8226-1ac1057f2bae\",\"time\":\"2020-03-10T17:16:13.283882Z\",\"input\":\"F 80 g 76\",\"name\":\"Total enfants nes dans annee en cours enregistres mois precedent\"},\"total_enfants_regularises_dans_le_mois_precedent\":{\"value\":\"F 58 g 76\",\"category\":\"valide\",\"node\":\"f8dbcb8a-053c-43c0-a426-3563f75ba0a7\",\"time\":\"2020-03-10T17:17:05.460233Z\",\"input\":\"F 58 g 76\",\"name\":\"Total enfants regularises dans le mois precedent\"},\"total_filles_enregistres_mois_precedent\":{\"value\":\"170\",\"category\":\"Nombre\",\"node\":\"4c004f3c-b346-4edd-b561-67be61e61f4c\",\"time\":\"2020-03-10T17:14:33.210015Z\",\"input\":\"170\",\"name\":\"Total Filles Enregistres Mois Precedent\"},\"total_garcons_enregistres_mois_precedents\":{\"value\":\"194\",\"category\":\"Nombre\",\"node\":\"d539c831-c52b-4cdc-ad6a-ecec29b3d212\",\"time\":\"2020-03-10T17:14:33.210265Z\",\"input\":\"194\",\"name\":\"Total Garcons Enregistres Mois Precedents\"},\"total_volets_1_delivres_mois_precedents\":{\"value\":\"F 0 g 0\",\"category\":\"valide\",\"node\":\"593e9803-0e3a-4ead-9f10-d381596cd46e\",\"time\":\"2020-03-10T17:15:08.035278Z\",\"input\":\"F 0 g 0\",\"name\":\"total volets 1 delivres mois precedents\"}},\"created_on\":\"2020-03-10T17:13:49.597684Z\",\"modified_on\":\"2020-03-10T17:17:34.435436Z\",\"exited_on\":\"2020-03-10T17:17:34.435292Z\",\"exit_type\":\"completed\"},{\"id\":1045618112,\"uuid\":\"5a37eb5c-3a93-4a5b-9c62-ec358d9ef8b6\",\"flow\":{\"uuid\":\"e665a1b5-2b15-4de6-9d77-4521ff502fc9\",\"name\":\"Flux-Rappels-Naissances-Mois-v3\"},\"contact\":{\"uuid\":\"4e4229dd-a938-4546-b783-fa77b816e9e5\",\"urn\":\"tel:+221773576816\",\"name\":\"Fatou Kine Gueye\"},\"start\":null,\"responded\":true,\"path\":[{\"node\":\"dc534c8e-7f44-4ae0-9cf1-2d602fa390f5\",\"time\":\"2020-03-10T09:27:05.272334Z\"},{\"node\":\"c4b12b47-dd9f-43af-9d33-d6d29ee957ef\",\"time\":\"2020-03-10T09:27:05.272970Z\"},{\"node\":\"214d7574-b4a6-4404-ac9b-11b9fb9ce500\",\"time\":\"2020-03-10T09:27:05.273168Z\"},{\"node\":\"4c004f3c-b346-4edd-b561-67be61e61f4c\",\"time\":\"2020-03-10T09:28:15.105391Z\"},{\"node\":\"d539c831-c52b-4cdc-ad6a-ecec29b3d212\",\"time\":\"2020-03-10T09:28:15.105685Z\"},{\"node\":\"7c14ad67-230e-41a4-87cb-6495cb62b99a\",\"time\":\"2020-03-10T09:28:15.105927Z\"},{\"node\":\"593e9803-0e3a-4ead-9f10-d381596cd46e\",\"time\":\"2020-03-10T09:28:15.106044Z\"},{\"node\":\"680ff8d7-f629-4f9c-8896-93daa05b0140\",\"time\":\"2020-03-10T09:29:13.712476Z\"},{\"node\":\"5d0bd4cd-f7fa-4ed9-bb06-c073f758510e\",\"time\":\"2020-03-10T09:29:13.712753Z\"},{\"node\":\"a4478fed-6c73-4387-821e-e528c888d3ec\",\"time\":\"2020-03-10T09:29:13.713002Z\"},{\"node\":\"6eda4f3b-3303-4d7b-8226-1ac1057f2bae\",\"time\":\"2020-03-10T09:29:13.713113Z\"},{\"node\":\"9f5d9f7f-4be3-42f4-9316-022ea96c8550\",\"time\":\"2020-03-10T09:32:22.813881Z\"},{\"node\":\"6eda4f3b-3303-4d7b-8226-1ac1057f2bae\",\"time\":\"2020-03-10T09:32:22.813921Z\"},{\"node\":\"9f5d9f7f-4be3-42f4-9316-022ea96c8550\",\"time\":\"2020-03-10T09:33:43.769897Z\"},{\"node\":\"6eda4f3b-3303-4d7b-8226-1ac1057f2bae\",\"time\":\"2020-03-10T09:33:43.769960Z\"},{\"node\":\"863a3653-f571-453d-9334-bd44d386b10d\",\"time\":\"2020-03-10T17:10:06.766111Z\"},{\"node\":\"0cd49cee-13a7-4053-b9cd-c86fec33df24\",\"time\":\"2020-03-10T17:10:06.766595Z\"},{\"node\":\"5e4ad7e2-5413-4bef-8fbd-81645e059298\",\"time\":\"2020-03-10T17:10:06.767029Z\"},{\"node\":\"f8dbcb8a-053c-43c0-a426-3563f75ba0a7\",\"time\":\"2020-03-10T17:10:06.767220Z\"},{\"node\":\"b13566d5-109e-437c-b3f2-3d65c5d69db8\",\"time\":\"2020-03-10T17:11:21.259247Z\"},{\"node\":\"2cc1c121-0af1-4e67-a84b-7205e048c773\",\"time\":\"2020-03-10T17:11:21.259549Z\"},{\"node\":\"98883221-bc88-4290-8e5a-ac7305ecce5b\",\"time\":\"2020-03-10T17:11:21.259806Z\"},{\"node\":\"68e1808c-3052-4831-a58e-3d8e2c41d6ae\",\"time\":\"2020-03-10T17:11:21.260800Z\"},{\"node\":\"a38976f1-a939-4450-9172-943293bb3d65\",\"time\":\"2020-03-10T17:12:10.370117Z\"},{\"node\":\"5523a546-a2da-4a6a-be46-dab3fb3d036d\",\"time\":\"2020-03-10T17:12:10.370158Z\"}],\"values\":{\"confirmation_finale\":{\"value\":\"Oui\",\"category\":\"confirmation\",\"node\":\"68e1808c-3052-4831-a58e-3d8e2c41d6ae\",\"time\":\"2020-03-10T17:12:10.370101Z\",\"input\":\"Oui\",\"name\":\"Confirmation finale\"},\"filles_nees_dans_annee_en_cours_enregistrees_mois_precedent\":{\"value\":\"103\",\"category\":\"nombre\",\"node\":\"863a3653-f571-453d-9334-bd44d386b10d\",\"time\":\"2020-03-10T17:10:06.766569Z\",\"input\":\"103\",\"name\":\"filles nees dans annee en cours enregistrees mois precedent\"},\"filles_regularisees_dans_le_mois_precedent\":{\"value\":\"87\",\"category\":\"nombre\",\"node\":\"b13566d5-109e-437c-b3f2-3d65c5d69db8\",\"time\":\"2020-03-10T17:11:21.259534Z\",\"input\":\"87\",\"name\":\"filles regularisees dans le mois precedent\"},\"garcons_nes_dans_annee_en_cours_enregistres_mois_precedent\":{\"value\":\"131\",\"category\":\"nombre\",\"node\":\"0cd49cee-13a7-4053-b9cd-c86fec33df24\",\"time\":\"2020-03-10T17:10:06.767005Z\",\"input\":\"131\",\"name\":\"garcons nes dans annee en cours enregistres mois precedent\"},\"garcons_regularises_dans_le_mois_precedent\":{\"value\":\"86\",\"category\":\"nombre\",\"node\":\"2cc1c121-0af1-4e67-a84b-7205e048c773\",\"time\":\"2020-03-10T17:11:21.259792Z\",\"input\":\"86\",\"name\":\"garcons regularises dans le mois precedent\"},\"mois_de_rappel\":{\"value\":\"Janvier\",\"category\":\"Janvier\",\"node\":\"dc534c8e-7f44-4ae0-9cf1-2d602fa390f5\",\"time\":\"2020-03-10T09:27:05.272945Z\",\"input\":\"Janvier\",\"name\":\"Mois de rappel\"},\"total_de_filles_avec_volet_1_mois_precedents\":{\"value\":\"0\",\"category\":\"nombre\",\"node\":\"680ff8d7-f629-4f9c-8896-93daa05b0140\",\"time\":\"2020-03-10T09:29:13.712737Z\",\"input\":\"0\",\"name\":\"Total de filles avec volet 1 mois precedents\"},\"total_de_garcons_avec_volets_1_mois_precedents\":{\"value\":\"0\",\"category\":\"nombre\",\"node\":\"5d0bd4cd-f7fa-4ed9-bb06-c073f758510e\",\"time\":\"2020-03-10T09:29:13.712988Z\",\"input\":\"0\",\"name\":\"Total de garcons avec volets 1 mois precedents\"},\"total_enfants_enregistres_mois_precedent\":{\"value\":\"F 190 g 288\",\"category\":\"valide\",\"node\":\"214d7574-b4a6-4404-ac9b-11b9fb9ce500\",\"time\":\"2020-03-10T09:28:15.105350Z\",\"input\":\"F 190 g 288\",\"name\":\"Total enfants enregistres mois precedent\"},\"total_enfants_nes_dans_annee_en_cours_enregistres_mois_precedent\":{\"value\":\"F 103 g 131\",\"category\":\"valide\",\"node\":\"6eda4f3b-3303-4d7b-8226-1ac1057f2bae\",\"time\":\"2020-03-10T17:10:06.766037Z\",\"input\":\"F 103 g 131\",\"name\":\"Total enfants nes dans annee en cours enregistres mois precedent\"},\"total_enfants_regularises_dans_le_mois_precedent\":{\"value\":\"F 87 g 86\",\"category\":\"valide\",\"node\":\"f8dbcb8a-053c-43c0-a426-3563f75ba0a7\",\"time\":\"2020-03-10T17:11:21.259209Z\",\"input\":\"F 87 g 86\",\"name\":\"Total enfants regularises dans le mois precedent\"},\"total_filles_enregistres_mois_precedent\":{\"value\":\"190\",\"category\":\"Nombre\",\"node\":\"4c004f3c-b346-4edd-b561-67be61e61f4c\",\"time\":\"2020-03-10T09:28:15.105670Z\",\"input\":\"190\",\"name\":\"Total Filles Enregistres Mois Precedent\"},\"total_garcons_enregistres_mois_precedents\":{\"value\":\"288\",\"category\":\"Nombre\",\"node\":\"d539c831-c52b-4cdc-ad6a-ecec29b3d212\",\"time\":\"2020-03-10T09:28:15.105913Z\",\"input\":\"288\",\"name\":\"Total Garcons Enregistres Mois Precedents\"},\"total_volets_1_delivres_mois_precedents\":{\"value\":\"F 0 g 0\",\"category\":\"valide\",\"node\":\"593e9803-0e3a-4ead-9f10-d381596cd46e\",\"time\":\"2020-03-10T09:29:13.712441Z\",\"input\":\"F 0 g 0\",\"name\":\"total volets 1 delivres mois precedents\"}},\"created_on\":\"2020-03-10T09:27:05.272308Z\",\"modified_on\":\"2020-03-10T17:12:10.380565Z\",\"exited_on\":\"2020-03-10T17:12:10.379228Z\",\"exit_type\":\"completed\"},{\"id\":1037196734,\"uuid\":\"97fdd271-4b01-461a-9757-cdbe5d1dc601\",\"flow\":{\"uuid\":\"e665a1b5-2b15-4de6-9d77-4521ff502fc9\",\"name\":\"Flux-Rappels-Naissances-Mois-v3\"},\"contact\":{\"uuid\":\"1f308250-1cfb-4afc-8eed-2ee052f28cb1\",\"urn\":\"tel:+221772315672\",\"name\":\"Alphousseyny Mballo\"},\"start\":null,\"responded\":true,\"path\":[{\"node\":\"dc534c8e-7f44-4ae0-9cf1-2d602fa390f5\",\"time\":\"2020-02-27T13:00:52.913589Z\"},{\"node\":\"c4b12b47-dd9f-43af-9d33-d6d29ee957ef\",\"time\":\"2020-02-27T13:00:52.913961Z\"},{\"node\":\"214d7574-b4a6-4404-ac9b-11b9fb9ce500\",\"time\":\"2020-02-27T13:00:52.914081Z\"},{\"node\":\"4c004f3c-b346-4edd-b561-67be61e61f4c\",\"time\":\"2020-02-27T13:01:51.236572Z\"},{\"node\":\"d539c831-c52b-4cdc-ad6a-ecec29b3d212\",\"time\":\"2020-02-27T13:01:51.236988Z\"},{\"node\":\"7c14ad67-230e-41a4-87cb-6495cb62b99a\",\"time\":\"2020-02-27T13:01:51.237370Z\"},{\"node\":\"593e9803-0e3a-4ead-9f10-d381596cd46e\",\"time\":\"2020-02-27T13:01:51.237530Z\"},{\"node\":\"680ff8d7-f629-4f9c-8896-93daa05b0140\",\"time\":\"2020-02-27T13:02:50.294893Z\"},{\"node\":\"5d0bd4cd-f7fa-4ed9-bb06-c073f758510e\",\"time\":\"2020-02-27T13:02:50.295204Z\"},{\"node\":\"a4478fed-6c73-4387-821e-e528c888d3ec\",\"time\":\"2020-02-27T13:02:50.295451Z\"},{\"node\":\"6eda4f3b-3303-4d7b-8226-1ac1057f2bae\",\"time\":\"2020-02-27T13:02:50.295563Z\"},{\"node\":\"863a3653-f571-453d-9334-bd44d386b10d\",\"time\":\"2020-02-27T13:08:05.854939Z\"},{\"node\":\"0cd49cee-13a7-4053-b9cd-c86fec33df24\",\"time\":\"2020-02-27T13:08:05.855254Z\"},{\"node\":\"5e4ad7e2-5413-4bef-8fbd-81645e059298\",\"time\":\"2020-02-27T13:08:05.855504Z\"},{\"node\":\"f8dbcb8a-053c-43c0-a426-3563f75ba0a7\",\"time\":\"2020-02-27T13:08:05.855620Z\"},{\"node\":\"b13566d5-109e-437c-b3f2-3d65c5d69db8\",\"time\":\"2020-02-27T13:08:47.095756Z\"},{\"node\":\"2cc1c121-0af1-4e67-a84b-7205e048c773\",\"time\":\"2020-02-27T13:08:47.096068Z\"},{\"node\":\"98883221-bc88-4290-8e5a-ac7305ecce5b\",\"time\":\"2020-02-27T13:08:47.096332Z\"},{\"node\":\"68e1808c-3052-4831-a58e-3d8e2c41d6ae\",\"time\":\"2020-02-27T13:08:47.097075Z\"},{\"node\":\"a38976f1-a939-4450-9172-943293bb3d65\",\"time\":\"2020-02-27T13:09:42.994701Z\"},{\"node\":\"5523a546-a2da-4a6a-be46-dab3fb3d036d\",\"time\":\"2020-02-27T13:09:42.994744Z\"}],\"values\":{\"confirmation_finale\":{\"value\":\"O\",\"category\":\"confirmation\",\"node\":\"68e1808c-3052-4831-a58e-3d8e2c41d6ae\",\"time\":\"2020-02-27T13:09:42.994684Z\",\"input\":\"O\",\"name\":\"Confirmation finale\"},\"filles_nees_dans_annee_en_cours_enregistrees_mois_precedent\":{\"value\":\"1\",\"category\":\"nombre\",\"node\":\"863a3653-f571-453d-9334-bd44d386b10d\",\"time\":\"2020-02-27T13:08:05.855237Z\",\"input\":\"1\",\"name\":\"filles nees dans annee en cours enregistrees mois precedent\"},\"filles_regularisees_dans_le_mois_precedent\":{\"value\":\"0\",\"category\":\"nombre\",\"node\":\"b13566d5-109e-437c-b3f2-3d65c5d69db8\",\"time\":\"2020-02-27T13:08:47.096055Z\",\"input\":\"0\",\"name\":\"filles regularisees dans le mois precedent\"},\"garcons_nes_dans_annee_en_cours_enregistres_mois_precedent\":{\"value\":\"0\",\"category\":\"nombre\",\"node\":\"0cd49cee-13a7-4053-b9cd-c86fec33df24\",\"time\":\"2020-02-27T13:08:05.855489Z\",\"input\":\"0\",\"name\":\"garcons nes dans annee en cours enregistres mois precedent\"},\"garcons_regularises_dans_le_mois_precedent\":{\"value\":\"0\",\"category\":\"nombre\",\"node\":\"2cc1c121-0af1-4e67-a84b-7205e048c773\",\"time\":\"2020-02-27T13:08:47.096319Z\",\"input\":\"0\",\"name\":\"garcons regularises dans le mois precedent\"},\"mois_de_rappel\":{\"value\":\"Janvier\",\"category\":\"Janvier\",\"node\":\"dc534c8e-7f44-4ae0-9cf1-2d602fa390f5\",\"time\":\"2020-02-27T13:00:52.913946Z\",\"input\":\"Janvier\",\"name\":\"Mois de rappel\"},\"total_de_filles_avec_volet_1_mois_precedents\":{\"value\":\"2\",\"category\":\"nombre\",\"node\":\"680ff8d7-f629-4f9c-8896-93daa05b0140\",\"time\":\"2020-02-27T13:02:50.295188Z\",\"input\":\"2\",\"name\":\"Total de filles avec volet 1 mois precedents\"},\"total_de_garcons_avec_volets_1_mois_precedents\":{\"value\":\"0\",\"category\":\"nombre\",\"node\":\"5d0bd4cd-f7fa-4ed9-bb06-c073f758510e\",\"time\":\"2020-02-27T13:02:50.295436Z\",\"input\":\"0\",\"name\":\"Total de garcons avec volets 1 mois precedents\"},\"total_enfants_enregistres_mois_precedent\":{\"value\":\"F 2 g 0\",\"category\":\"valide\",\"node\":\"214d7574-b4a6-4404-ac9b-11b9fb9ce500\",\"time\":\"2020-02-27T13:01:51.236507Z\",\"input\":\"F 2 g 0\",\"name\":\"Total enfants enregistres mois precedent\"},\"total_enfants_nes_dans_annee_en_cours_enregistres_mois_precedent\":{\"value\":\"F 1 g 0\",\"category\":\"valide\",\"node\":\"6eda4f3b-3303-4d7b-8226-1ac1057f2bae\",\"time\":\"2020-02-27T13:08:05.854900Z\",\"input\":\"F 1 g 0\",\"name\":\"Total enfants nes dans annee en cours enregistres mois precedent\"},\"total_enfants_regularises_dans_le_mois_precedent\":{\"value\":\"F 0 g 0\",\"category\":\"valide\",\"node\":\"f8dbcb8a-053c-43c0-a426-3563f75ba0a7\",\"time\":\"2020-02-27T13:08:47.095723Z\",\"input\":\"F 0 g 0\",\"name\":\"Total enfants regularises dans le mois precedent\"},\"total_filles_enregistres_mois_precedent\":{\"value\":\"2\",\"category\":\"Nombre\",\"node\":\"4c004f3c-b346-4edd-b561-67be61e61f4c\",\"time\":\"2020-02-27T13:01:51.236967Z\",\"input\":\"2\",\"name\":\"Total Filles Enregistres Mois Precedent\"},\"total_garcons_enregistres_mois_precedents\":{\"value\":\"0\",\"category\":\"Nombre\",\"node\":\"d539c831-c52b-4cdc-ad6a-ecec29b3d212\",\"time\":\"2020-02-27T13:01:51.237348Z\",\"input\":\"0\",\"name\":\"Total Garcons Enregistres Mois Precedents\"},\"total_volets_1_delivres_mois_precedents\":{\"value\":\"F 2 g 0\",\"category\":\"valide\",\"node\":\"593e9803-0e3a-4ead-9f10-d381596cd46e\",\"time\":\"2020-02-27T13:02:50.294860Z\",\"input\":\"F 2 g 0\",\"name\":\"total volets 1 delivres mois precedents\"}},\"created_on\":\"2020-02-27T13:00:52.913570Z\",\"modified_on\":\"2020-02-27T13:09:43.023637Z\",\"exited_on\":\"2020-02-27T13:09:43.021225Z\",\"exit_type\":\"completed\"},{\"id\":1036223982,\"uuid\":\"4c266f5e-369d-4499-86c2-0100ba84b883\",\"flow\":{\"uuid\":\"e665a1b5-2b15-4de6-9d77-4521ff502fc9\",\"name\":\"Flux-Rappels-Naissances-Mois-v3\"},\"contact\":{\"uuid\":\"555ab6e4-c7a4-4fb6-8a9d-96dcaaa1fb60\",\"urn\":\"tel:+221775142350\",\"name\":\"Dicory Bald\\u00e9\"},\"start\":null,\"responded\":true,\"path\":[{\"node\":\"dc534c8e-7f44-4ae0-9cf1-2d602fa390f5\",\"time\":\"2020-02-25T13:48:49.516800Z\"},{\"node\":\"c4b12b47-dd9f-43af-9d33-d6d29ee957ef\",\"time\":\"2020-02-25T13:48:49.517202Z\"},{\"node\":\"214d7574-b4a6-4404-ac9b-11b9fb9ce500\",\"time\":\"2020-02-25T13:48:49.517363Z\"},{\"node\":\"eec3dc6c-466e-4454-8e4f-79d7b7586326\",\"time\":\"2020-02-25T13:50:12.109953Z\"},{\"node\":\"214d7574-b4a6-4404-ac9b-11b9fb9ce500\",\"time\":\"2020-02-25T13:50:12.109998Z\"},{\"node\":\"4c004f3c-b346-4edd-b561-67be61e61f4c\",\"time\":\"2020-02-25T13:51:19.829671Z\"},{\"node\":\"d539c831-c52b-4cdc-ad6a-ecec29b3d212\",\"time\":\"2020-02-25T13:51:19.829979Z\"},{\"node\":\"7c14ad67-230e-41a4-87cb-6495cb62b99a\",\"time\":\"2020-02-25T13:51:19.830225Z\"},{\"node\":\"593e9803-0e3a-4ead-9f10-d381596cd46e\",\"time\":\"2020-02-25T13:51:19.830335Z\"},{\"node\":\"680ff8d7-f629-4f9c-8896-93daa05b0140\",\"time\":\"2020-02-25T13:52:08.593410Z\"},{\"node\":\"5d0bd4cd-f7fa-4ed9-bb06-c073f758510e\",\"time\":\"2020-02-25T13:52:08.593737Z\"},{\"node\":\"a4478fed-6c73-4387-821e-e528c888d3ec\",\"time\":\"2020-02-25T13:52:08.593998Z\"},{\"node\":\"6eda4f3b-3303-4d7b-8226-1ac1057f2bae\",\"time\":\"2020-02-25T13:52:08.594116Z\"},{\"node\":\"863a3653-f571-453d-9334-bd44d386b10d\",\"time\":\"2020-02-25T13:52:49.019869Z\"},{\"node\":\"0cd49cee-13a7-4053-b9cd-c86fec33df24\",\"time\":\"2020-02-25T13:52:49.020244Z\"},{\"node\":\"5e4ad7e2-5413-4bef-8fbd-81645e059298\",\"time\":\"2020-02-25T13:52:49.020511Z\"},{\"node\":\"f8dbcb8a-053c-43c0-a426-3563f75ba0a7\",\"time\":\"2020-02-25T13:52:49.020638Z\"},{\"node\":\"b13566d5-109e-437c-b3f2-3d65c5d69db8\",\"time\":\"2020-02-25T13:54:01.990199Z\"},{\"node\":\"2cc1c121-0af1-4e67-a84b-7205e048c773\",\"time\":\"2020-02-25T13:54:01.990527Z\"},{\"node\":\"98883221-bc88-4290-8e5a-ac7305ecce5b\",\"time\":\"2020-02-25T13:54:01.990780Z\"},{\"node\":\"68e1808c-3052-4831-a58e-3d8e2c41d6ae\",\"time\":\"2020-02-25T13:54:01.991553Z\"},{\"node\":\"a38976f1-a939-4450-9172-943293bb3d65\",\"time\":\"2020-02-25T13:55:01.825112Z\"},{\"node\":\"5523a546-a2da-4a6a-be46-dab3fb3d036d\",\"time\":\"2020-02-25T13:55:01.825156Z\"}],\"values\":{\"confirmation_finale\":{\"value\":\"O\",\"category\":\"confirmation\",\"node\":\"68e1808c-3052-4831-a58e-3d8e2c41d6ae\",\"time\":\"2020-02-25T13:55:01.825096Z\",\"input\":\"O\",\"name\":\"Confirmation finale\"},\"filles_nees_dans_annee_en_cours_enregistrees_mois_precedent\":{\"value\":\"25\",\"category\":\"nombre\",\"node\":\"863a3653-f571-453d-9334-bd44d386b10d\",\"time\":\"2020-02-25T13:52:49.020225Z\",\"input\":\"25\",\"name\":\"filles nees dans annee en cours enregistrees mois precedent\"},\"filles_regularisees_dans_le_mois_precedent\":{\"value\":\"0\",\"category\":\"nombre\",\"node\":\"b13566d5-109e-437c-b3f2-3d65c5d69db8\",\"time\":\"2020-02-25T13:54:01.990513Z\",\"input\":\"0\",\"name\":\"filles regularisees dans le mois precedent\"},\"garcons_nes_dans_annee_en_cours_enregistres_mois_precedent\":{\"value\":\"34\",\"category\":\"nombre\",\"node\":\"0cd49cee-13a7-4053-b9cd-c86fec33df24\",\"time\":\"2020-02-25T13:52:49.020496Z\",\"input\":\"34\",\"name\":\"garcons nes dans annee en cours enregistres mois precedent\"},\"garcons_regularises_dans_le_mois_precedent\":{\"value\":\"0\",\"category\":\"nombre\",\"node\":\"2cc1c121-0af1-4e67-a84b-7205e048c773\",\"time\":\"2020-02-25T13:54:01.990766Z\",\"input\":\"0\",\"name\":\"garcons regularises dans le mois precedent\"},\"mois_de_rappel\":{\"value\":\"Janvier\",\"category\":\"Janvier\",\"node\":\"dc534c8e-7f44-4ae0-9cf1-2d602fa390f5\",\"time\":\"2020-02-25T13:48:49.517180Z\",\"input\":\"Janvier\",\"name\":\"Mois de rappel\"},\"total_de_filles_avec_volet_1_mois_precedents\":{\"value\":\"25\",\"category\":\"nombre\",\"node\":\"680ff8d7-f629-4f9c-8896-93daa05b0140\",\"time\":\"2020-02-25T13:52:08.593721Z\",\"input\":\"25\",\"name\":\"Total de filles avec volet 1 mois precedents\"},\"total_de_garcons_avec_volets_1_mois_precedents\":{\"value\":\"34\",\"category\":\"nombre\",\"node\":\"5d0bd4cd-f7fa-4ed9-bb06-c073f758510e\",\"time\":\"2020-02-25T13:52:08.593983Z\",\"input\":\"34\",\"name\":\"Total de garcons avec volets 1 mois precedents\"},\"total_enfants_enregistres_mois_precedent\":{\"value\":\"F 25 G 34\",\"category\":\"valide\",\"node\":\"214d7574-b4a6-4404-ac9b-11b9fb9ce500\",\"time\":\"2020-02-25T13:51:19.829630Z\",\"input\":\"F 25 G 34\",\"name\":\"Total enfants enregistres mois precedent\"},\"total_enfants_nes_dans_annee_en_cours_enregistres_mois_precedent\":{\"value\":\"F 25 G 34\",\"category\":\"valide\",\"node\":\"6eda4f3b-3303-4d7b-8226-1ac1057f2bae\",\"time\":\"2020-02-25T13:52:49.019831Z\",\"input\":\"F 25 G 34\",\"name\":\"Total enfants nes dans annee en cours enregistres mois precedent\"},\"total_enfants_regularises_dans_le_mois_precedent\":{\"value\":\"F 0 G 0\",\"category\":\"valide\",\"node\":\"f8dbcb8a-053c-43c0-a426-3563f75ba0a7\",\"time\":\"2020-02-25T13:54:01.990146Z\",\"input\":\"F 0 G 0\",\"name\":\"Total enfants regularises dans le mois precedent\"},\"total_filles_enregistres_mois_precedent\":{\"value\":\"25\",\"category\":\"Nombre\",\"node\":\"4c004f3c-b346-4edd-b561-67be61e61f4c\",\"time\":\"2020-02-25T13:51:19.829965Z\",\"input\":\"25\",\"name\":\"Total Filles Enregistres Mois Precedent\"},\"total_garcons_enregistres_mois_precedents\":{\"value\":\"34\",\"category\":\"Nombre\",\"node\":\"d539c831-c52b-4cdc-ad6a-ecec29b3d212\",\"time\":\"2020-02-25T13:51:19.830211Z\",\"input\":\"34\",\"name\":\"Total Garcons Enregistres Mois Precedents\"},\"total_volets_1_delivres_mois_precedents\":{\"value\":\"F 25 G 34\",\"category\":\"valide\",\"node\":\"593e9803-0e3a-4ead-9f10-d381596cd46e\",\"time\":\"2020-02-25T13:52:08.593375Z\",\"input\":\"F 25 G 34\",\"name\":\"total volets 1 delivres mois precedents\"}},\"created_on\":\"2020-02-25T13:48:49.516778Z\",\"modified_on\":\"2020-02-25T13:55:01.845763Z\",\"exited_on\":\"2020-02-25T13:55:01.844339Z\",\"exit_type\":\"completed\"},{\"id\":1036223915,\"uuid\":\"8287c236-ba1f-4780-b3d4-18b18c90ac62\",\"flow\":{\"uuid\":\"e665a1b5-2b15-4de6-9d77-4521ff502fc9\",\"name\":\"Flux-Rappels-Naissances-Mois-v3\"},\"contact\":{\"uuid\":\"555ab6e4-c7a4-4fb6-8a9d-96dcaaa1fb60\",\"urn\":\"tel:+221775142350\",\"name\":\"Dicory Bald\\u00e9\"},\"start\":null,\"responded\":true,\"path\":[{\"node\":\"dc534c8e-7f44-4ae0-9cf1-2d602fa390f5\",\"time\":\"2020-02-25T13:47:05.073979Z\"},{\"node\":\"c4b12b47-dd9f-43af-9d33-d6d29ee957ef\",\"time\":\"2020-02-25T13:47:05.074547Z\"},{\"node\":\"214d7574-b4a6-4404-ac9b-11b9fb9ce500\",\"time\":\"2020-02-25T13:47:05.074708Z\"},{\"node\":\"eec3dc6c-466e-4454-8e4f-79d7b7586326\",\"time\":\"2020-02-25T13:47:44.926794Z\"},{\"node\":\"214d7574-b4a6-4404-ac9b-11b9fb9ce500\",\"time\":\"2020-02-25T13:47:44.926844Z\"}],\"values\":{\"mois_de_rappel\":{\"value\":\"Janvier\",\"category\":\"Janvier\",\"node\":\"dc534c8e-7f44-4ae0-9cf1-2d602fa390f5\",\"time\":\"2020-02-25T13:47:05.074528Z\",\"input\":\"Janvier\",\"name\":\"Mois de rappel\"},\"total_enfants_enregistres_mois_precedent\":{\"value\":\"F25 G34\",\"category\":\"Other\",\"node\":\"214d7574-b4a6-4404-ac9b-11b9fb9ce500\",\"time\":\"2020-02-25T13:47:44.926776Z\",\"input\":\"F25 G34\",\"name\":\"Total enfants enregistres mois precedent\"}},\"created_on\":\"2020-02-25T13:47:05.073954Z\",\"modified_on\":\"2020-02-25T13:48:28.817589Z\",\"exited_on\":\"2020-02-25T13:48:28.813488Z\",\"exit_type\":\"interrupted\"},{\"id\":1027560162,\"uuid\":\"b4288d1c-b631-4524-84db-f5c77560ad39\",\"flow\":{\"uuid\":\"e665a1b5-2b15-4de6-9d77-4521ff502fc9\",\"name\":\"Flux-Rappels-Naissances-Mois-v3\"},\"contact\":{\"uuid\":\"94b1e99d-81f4-49a5-9cb5-026f34783c28\",\"urn\":\"tel:+221770463545\",\"name\":\"Mamadou Malado Sylla\"},\"start\":null,\"responded\":true,\"path\":[{\"node\":\"dc534c8e-7f44-4ae0-9cf1-2d602fa390f5\",\"time\":\"2020-02-13T15:12:54.696765Z\"},{\"node\":\"c4b12b47-dd9f-43af-9d33-d6d29ee957ef\",\"time\":\"2020-02-13T15:12:54.697070Z\"},{\"node\":\"214d7574-b4a6-4404-ac9b-11b9fb9ce500\",\"time\":\"2020-02-13T15:12:54.697177Z\"},{\"node\":\"4c004f3c-b346-4edd-b561-67be61e61f4c\",\"time\":\"2020-02-13T15:13:51.027830Z\"},{\"node\":\"d539c831-c52b-4cdc-ad6a-ecec29b3d212\",\"time\":\"2020-02-13T15:13:51.028176Z\"},{\"node\":\"7c14ad67-230e-41a4-87cb-6495cb62b99a\",\"time\":\"2020-02-13T15:13:51.028464Z\"},{\"node\":\"593e9803-0e3a-4ead-9f10-d381596cd46e\",\"time\":\"2020-02-13T15:13:51.028574Z\"},{\"node\":\"680ff8d7-f629-4f9c-8896-93daa05b0140\",\"time\":\"2020-02-13T15:14:51.799744Z\"},{\"node\":\"5d0bd4cd-f7fa-4ed9-bb06-c073f758510e\",\"time\":\"2020-02-13T15:14:51.800128Z\"},{\"node\":\"a4478fed-6c73-4387-821e-e528c888d3ec\",\"time\":\"2020-02-13T15:14:51.800383Z\"},{\"node\":\"6eda4f3b-3303-4d7b-8226-1ac1057f2bae\",\"time\":\"2020-02-13T15:14:51.800494Z\"},{\"node\":\"863a3653-f571-453d-9334-bd44d386b10d\",\"time\":\"2020-02-13T15:16:30.364796Z\"},{\"node\":\"0cd49cee-13a7-4053-b9cd-c86fec33df24\",\"time\":\"2020-02-13T15:16:30.365101Z\"},{\"node\":\"5e4ad7e2-5413-4bef-8fbd-81645e059298\",\"time\":\"2020-02-13T15:16:30.365352Z\"},{\"node\":\"f8dbcb8a-053c-43c0-a426-3563f75ba0a7\",\"time\":\"2020-02-13T15:16:30.365476Z\"},{\"node\":\"4cc60229-0acf-424a-9f6d-3d605d152a08\",\"time\":\"2020-02-14T15:17:01.866446Z\"},{\"node\":\"7789b0c0-ce0f-4d70-a818-adcd9434374c\",\"time\":\"2020-02-14T15:17:01.866838Z\"},{\"node\":\"d51513e8-6152-4abd-bd97-aae70e2a3509\",\"time\":\"2020-02-14T15:17:01.867116Z\"}],\"values\":{\"depassement_delai_rapportage\":{\"value\":\"2\",\"category\":\"Other\",\"node\":\"7789b0c0-ce0f-4d70-a818-adcd9434374c\",\"time\":\"2020-02-14T15:17:01.867102Z\",\"input\":\"2\",\"name\":\"depassement delai rapportage\"},\"filles_nees_dans_annee_en_cours_enregistrees_mois_precedent\":{\"value\":\"3\",\"category\":\"nombre\",\"node\":\"863a3653-f571-453d-9334-bd44d386b10d\",\"time\":\"2020-02-13T15:16:30.365083Z\",\"input\":\"3\",\"name\":\"filles nees dans annee en cours enregistrees mois precedent\"},\"garcons_nes_dans_annee_en_cours_enregistres_mois_precedent\":{\"value\":\"6\",\"category\":\"nombre\",\"node\":\"0cd49cee-13a7-4053-b9cd-c86fec33df24\",\"time\":\"2020-02-13T15:16:30.365336Z\",\"input\":\"6\",\"name\":\"garcons nes dans annee en cours enregistres mois precedent\"},\"mois_de_rappel\":{\"value\":\"Janvier\",\"category\":\"Janvier\",\"node\":\"dc534c8e-7f44-4ae0-9cf1-2d602fa390f5\",\"time\":\"2020-02-13T15:12:54.697057Z\",\"input\":\"Janvier\",\"name\":\"Mois de rappel\"},\"total_de_filles_avec_volet_1_mois_precedents\":{\"value\":\"25\",\"category\":\"nombre\",\"node\":\"680ff8d7-f629-4f9c-8896-93daa05b0140\",\"time\":\"2020-02-13T15:14:51.800112Z\",\"input\":\"25\",\"name\":\"Total de filles avec volet 1 mois precedents\"},\"total_de_garcons_avec_volets_1_mois_precedents\":{\"value\":\"16\",\"category\":\"nombre\",\"node\":\"5d0bd4cd-f7fa-4ed9-bb06-c073f758510e\",\"time\":\"2020-02-13T15:14:51.800368Z\",\"input\":\"16\",\"name\":\"Total de garcons avec volets 1 mois precedents\"},\"total_enfants_enregistres_mois_precedent\":{\"value\":\"F 25 G 16\",\"category\":\"valide\",\"node\":\"214d7574-b4a6-4404-ac9b-11b9fb9ce500\",\"time\":\"2020-02-13T15:13:51.027767Z\",\"input\":\"F 25 G 16\",\"name\":\"Total enfants enregistres mois precedent\"},\"total_enfants_nes_dans_annee_en_cours_enregistres_mois_precedent\":{\"value\":\"F 3 G 6\",\"category\":\"valide\",\"node\":\"6eda4f3b-3303-4d7b-8226-1ac1057f2bae\",\"time\":\"2020-02-13T15:16:30.364759Z\",\"input\":\"F 3 G 6\",\"name\":\"Total enfants nes dans annee en cours enregistres mois precedent\"},\"total_enfants_regularises_dans_le_mois_precedent\":{\"value\":\"2020-02-14T15:17:01.865960Z\",\"category\":\"No Response\",\"node\":\"f8dbcb8a-053c-43c0-a426-3563f75ba0a7\",\"time\":\"2020-02-14T15:17:01.866398Z\",\"input\":null,\"name\":\"Total enfants regularises dans le mois precedent\"},\"total_filles_enregistres_mois_precedent\":{\"value\":\"25\",\"category\":\"Nombre\",\"node\":\"4c004f3c-b346-4edd-b561-67be61e61f4c\",\"time\":\"2020-02-13T15:13:51.028154Z\",\"input\":\"25\",\"name\":\"Total Filles Enregistres Mois Precedent\"},\"total_garcons_enregistres_mois_precedents\":{\"value\":\"16\",\"category\":\"Nombre\",\"node\":\"d539c831-c52b-4cdc-ad6a-ecec29b3d212\",\"time\":\"2020-02-13T15:13:51.028449Z\",\"input\":\"16\",\"name\":\"Total Garcons Enregistres Mois Precedents\"},\"total_volets_1_delivres_mois_precedents\":{\"value\":\"F 25 G 16\",\"category\":\"valide\",\"node\":\"593e9803-0e3a-4ead-9f10-d381596cd46e\",\"time\":\"2020-02-13T15:14:51.799686Z\",\"input\":\"F 25 G 16\",\"name\":\"total volets 1 delivres mois precedents\"}},\"created_on\":\"2020-02-13T15:12:54.696752Z\",\"modified_on\":\"2020-02-20T15:17:01.791374Z\",\"exited_on\":\"2020-02-20T15:17:01.791245Z\",\"exit_type\":\"completed\"},{\"id\":1027060539,\"uuid\":\"df9c7f64-1a0c-4f96-ba8a-e14db409cec0\",\"flow\":{\"uuid\":\"e665a1b5-2b15-4de6-9d77-4521ff502fc9\",\"name\":\"Flux-Rappels-Naissances-Mois-v3\"},\"contact\":{\"uuid\":\"997591a5-601b-414b-9947-f5fbd57cac1b\",\"urn\":\"tel:+221773547183\",\"name\":\"Aminata Balde\"},\"start\":null,\"responded\":true,\"path\":[{\"node\":\"dc534c8e-7f44-4ae0-9cf1-2d602fa390f5\",\"time\":\"2020-02-12T16:00:22.766618Z\"},{\"node\":\"c4b12b47-dd9f-43af-9d33-d6d29ee957ef\",\"time\":\"2020-02-12T16:00:22.767088Z\"},{\"node\":\"214d7574-b4a6-4404-ac9b-11b9fb9ce500\",\"time\":\"2020-02-12T16:00:22.767236Z\"},{\"node\":\"4c004f3c-b346-4edd-b561-67be61e61f4c\",\"time\":\"2020-02-12T16:00:59.703125Z\"},{\"node\":\"d539c831-c52b-4cdc-ad6a-ecec29b3d212\",\"time\":\"2020-02-12T16:00:59.703578Z\"},{\"node\":\"7c14ad67-230e-41a4-87cb-6495cb62b99a\",\"time\":\"2020-02-12T16:00:59.703968Z\"},{\"node\":\"593e9803-0e3a-4ead-9f10-d381596cd46e\",\"time\":\"2020-02-12T16:00:59.704154Z\"},{\"node\":\"680ff8d7-f629-4f9c-8896-93daa05b0140\",\"time\":\"2020-02-12T16:01:38.440341Z\"},{\"node\":\"5d0bd4cd-f7fa-4ed9-bb06-c073f758510e\",\"time\":\"2020-02-12T16:01:38.440668Z\"},{\"node\":\"a4478fed-6c73-4387-821e-e528c888d3ec\",\"time\":\"2020-02-12T16:01:38.440908Z\"},{\"node\":\"6eda4f3b-3303-4d7b-8226-1ac1057f2bae\",\"time\":\"2020-02-12T16:01:38.441022Z\"}],\"values\":{\"mois_de_rappel\":{\"value\":\"Janvier\",\"category\":\"Janvier\",\"node\":\"dc534c8e-7f44-4ae0-9cf1-2d602fa390f5\",\"time\":\"2020-02-12T16:00:22.767069Z\",\"input\":\"Janvier\",\"name\":\"Mois de rappel\"},\"total_de_filles_avec_volet_1_mois_precedents\":{\"value\":\"17\",\"category\":\"nombre\",\"node\":\"680ff8d7-f629-4f9c-8896-93daa05b0140\",\"time\":\"2020-02-12T16:01:38.440653Z\",\"input\":\"17\",\"name\":\"Total de filles avec volet 1 mois precedents\"},\"total_de_garcons_avec_volets_1_mois_precedents\":{\"value\":\"32\",\"category\":\"nombre\",\"node\":\"5d0bd4cd-f7fa-4ed9-bb06-c073f758510e\",\"time\":\"2020-02-12T16:01:38.440893Z\",\"input\":\"32\",\"name\":\"Total de garcons avec volets 1 mois precedents\"},\"total_enfants_enregistres_mois_precedent\":{\"value\":\"F 17 g 32 \",\"category\":\"valide\",\"node\":\"214d7574-b4a6-4404-ac9b-11b9fb9ce500\",\"time\":\"2020-02-12T16:00:59.703064Z\",\"input\":\"F 17 g 32 \",\"name\":\"Total enfants enregistres mois precedent\"},\"total_filles_enregistres_mois_precedent\":{\"value\":\"17\",\"category\":\"Nombre\",\"node\":\"4c004f3c-b346-4edd-b561-67be61e61f4c\",\"time\":\"2020-02-12T16:00:59.703551Z\",\"input\":\"17\",\"name\":\"Total Filles Enregistres Mois Precedent\"},\"total_garcons_enregistres_mois_precedents\":{\"value\":\"32\",\"category\":\"Nombre\",\"node\":\"d539c831-c52b-4cdc-ad6a-ecec29b3d212\",\"time\":\"2020-02-12T16:00:59.703947Z\",\"input\":\"32\",\"name\":\"Total Garcons Enregistres Mois Precedents\"},\"total_volets_1_delivres_mois_precedents\":{\"value\":\"F 17 g 32 \",\"category\":\"valide\",\"node\":\"593e9803-0e3a-4ead-9f10-d381596cd46e\",\"time\":\"2020-02-12T16:01:38.440306Z\",\"input\":\"F 17 g 32 \",\"name\":\"total volets 1 delivres mois precedents\"}},\"created_on\":\"2020-02-12T16:00:22.766596Z\",\"modified_on\":\"2020-02-12T16:03:55.455269Z\",\"exited_on\":\"2020-02-12T16:03:55.372020Z\",\"exit_type\":\"interrupted\"},{\"id\":1027060491,\"uuid\":\"21fed133-8b94-4a56-8bba-d547e666837a\",\"flow\":{\"uuid\":\"e665a1b5-2b15-4de6-9d77-4521ff502fc9\",\"name\":\"Flux-Rappels-Naissances-Mois-v3\"},\"contact\":{\"uuid\":\"997591a5-601b-414b-9947-f5fbd57cac1b\",\"urn\":\"tel:+221773547183\",\"name\":\"Aminata Balde\"},\"start\":null,\"responded\":true,\"path\":[{\"node\":\"dc534c8e-7f44-4ae0-9cf1-2d602fa390f5\",\"time\":\"2020-02-12T15:58:35.536519Z\"},{\"node\":\"c4b12b47-dd9f-43af-9d33-d6d29ee957ef\",\"time\":\"2020-02-12T15:58:35.536844Z\"},{\"node\":\"214d7574-b4a6-4404-ac9b-11b9fb9ce500\",\"time\":\"2020-02-12T15:58:35.536945Z\"},{\"node\":\"eec3dc6c-466e-4454-8e4f-79d7b7586326\",\"time\":\"2020-02-12T15:59:19.590900Z\"},{\"node\":\"214d7574-b4a6-4404-ac9b-11b9fb9ce500\",\"time\":\"2020-02-12T15:59:19.590979Z\"}],\"values\":{\"mois_de_rappel\":{\"value\":\"Janvier\",\"category\":\"Janvier\",\"node\":\"dc534c8e-7f44-4ae0-9cf1-2d602fa390f5\",\"time\":\"2020-02-12T15:58:35.536831Z\",\"input\":\"Janvier\",\"name\":\"Mois de rappel\"},\"total_enfants_enregistres_mois_precedent\":{\"value\":\"F 17 g  32 \",\"category\":\"Other\",\"node\":\"214d7574-b4a6-4404-ac9b-11b9fb9ce500\",\"time\":\"2020-02-12T15:59:19.590876Z\",\"input\":\"F 17 g  32 \",\"name\":\"Total enfants enregistres mois precedent\"}},\"created_on\":\"2020-02-12T15:58:35.536505Z\",\"modified_on\":\"2020-02-12T16:00:06.166563Z\",\"exited_on\":\"2020-02-12T16:00:06.161591Z\",\"exit_type\":\"interrupted\"},{\"id\":1027060419,\"uuid\":\"25be2e70-a6fa-49b8-94ee-ca9ee48c0816\",\"flow\":{\"uuid\":\"e665a1b5-2b15-4de6-9d77-4521ff502fc9\",\"name\":\"Flux-Rappels-Naissances-Mois-v3\"},\"contact\":{\"uuid\":\"997591a5-601b-414b-9947-f5fbd57cac1b\",\"urn\":\"tel:+221773547183\",\"name\":\"Aminata Balde\"},\"start\":null,\"responded\":true,\"path\":[{\"node\":\"dc534c8e-7f44-4ae0-9cf1-2d602fa390f5\",\"time\":\"2020-02-12T15:56:01.871740Z\"},{\"node\":\"c4b12b47-dd9f-43af-9d33-d6d29ee957ef\",\"time\":\"2020-02-12T15:56:01.872374Z\"},{\"node\":\"214d7574-b4a6-4404-ac9b-11b9fb9ce500\",\"time\":\"2020-02-12T15:56:01.872570Z\"},{\"node\":\"eec3dc6c-466e-4454-8e4f-79d7b7586326\",\"time\":\"2020-02-12T15:56:42.272219Z\"},{\"node\":\"214d7574-b4a6-4404-ac9b-11b9fb9ce500\",\"time\":\"2020-02-12T15:56:42.272265Z\"}],\"values\":{\"mois_de_rappel\":{\"value\":\"Janvier\",\"category\":\"Janvier\",\"node\":\"dc534c8e-7f44-4ae0-9cf1-2d602fa390f5\",\"time\":\"2020-02-12T15:56:01.872354Z\",\"input\":\"Janvier\",\"name\":\"Mois de rappel\"},\"total_enfants_enregistres_mois_precedent\":{\"value\":\"F 17 g  32 \",\"category\":\"Other\",\"node\":\"214d7574-b4a6-4404-ac9b-11b9fb9ce500\",\"time\":\"2020-02-12T15:56:42.272199Z\",\"input\":\"F 17 g  32 \",\"name\":\"Total enfants enregistres mois precedent\"}},\"created_on\":\"2020-02-12T15:56:01.871719Z\",\"modified_on\":\"2020-02-12T15:58:14.427754Z\",\"exited_on\":\"2020-02-12T15:58:14.423514Z\",\"exit_type\":\"interrupted\"},{\"id\":1027060342,\"uuid\":\"5f95e455-8703-4fec-b58c-45cdb9a7eaaf\",\"flow\":{\"uuid\":\"e665a1b5-2b15-4de6-9d77-4521ff502fc9\",\"name\":\"Flux-Rappels-Naissances-Mois-v3\"},\"contact\":{\"uuid\":\"997591a5-601b-414b-9947-f5fbd57cac1b\",\"urn\":\"tel:+221773547183\",\"name\":\"Aminata Balde\"},\"start\":null,\"responded\":true,\"path\":[{\"node\":\"dc534c8e-7f44-4ae0-9cf1-2d602fa390f5\",\"time\":\"2020-02-12T15:53:33.353481Z\"},{\"node\":\"c4b12b47-dd9f-43af-9d33-d6d29ee957ef\",\"time\":\"2020-02-12T15:53:33.353787Z\"},{\"node\":\"214d7574-b4a6-4404-ac9b-11b9fb9ce500\",\"time\":\"2020-02-12T15:53:33.353888Z\"},{\"node\":\"eec3dc6c-466e-4454-8e4f-79d7b7586326\",\"time\":\"2020-02-12T15:54:30.444082Z\"},{\"node\":\"214d7574-b4a6-4404-ac9b-11b9fb9ce500\",\"time\":\"2020-02-12T15:54:30.444129Z\"}],\"values\":{\"mois_de_rappel\":{\"value\":\"Janvier\",\"category\":\"Janvier\",\"node\":\"dc534c8e-7f44-4ae0-9cf1-2d602fa390f5\",\"time\":\"2020-02-12T15:53:33.353773Z\",\"input\":\"Janvier\",\"name\":\"Mois de rappel\"},\"total_enfants_enregistres_mois_precedent\":{\"value\":\"F  17  g  32 \",\"category\":\"Other\",\"node\":\"214d7574-b4a6-4404-ac9b-11b9fb9ce500\",\"time\":\"2020-02-12T15:54:30.444061Z\",\"input\":\"F  17  g  32 \",\"name\":\"Total enfants enregistres mois precedent\"}},\"created_on\":\"2020-02-12T15:53:33.353466Z\",\"modified_on\":\"2020-02-12T15:55:42.536123Z\",\"exited_on\":\"2020-02-12T15:55:42.532523Z\",\"exit_type\":\"interrupted\"},{\"id\":1027060276,\"uuid\":\"2848183e-0200-48bc-afbb-0adc4e11e148\",\"flow\":{\"uuid\":\"e665a1b5-2b15-4de6-9d77-4521ff502fc9\",\"name\":\"Flux-Rappels-Naissances-Mois-v3\"},\"contact\":{\"uuid\":\"997591a5-601b-414b-9947-f5fbd57cac1b\",\"urn\":\"tel:+221773547183\",\"name\":\"Aminata Balde\"},\"start\":null,\"responded\":true,\"path\":[{\"node\":\"dc534c8e-7f44-4ae0-9cf1-2d602fa390f5\",\"time\":\"2020-02-12T15:50:38.782723Z\"},{\"node\":\"c4b12b47-dd9f-43af-9d33-d6d29ee957ef\",\"time\":\"2020-02-12T15:50:38.783014Z\"},{\"node\":\"214d7574-b4a6-4404-ac9b-11b9fb9ce500\",\"time\":\"2020-02-12T15:50:38.783114Z\"},{\"node\":\"eec3dc6c-466e-4454-8e4f-79d7b7586326\",\"time\":\"2020-02-12T15:51:43.338011Z\"},{\"node\":\"214d7574-b4a6-4404-ac9b-11b9fb9ce500\",\"time\":\"2020-02-12T15:51:43.338050Z\"}],\"values\":{\"mois_de_rappel\":{\"value\":\"Janvier\",\"category\":\"Janvier\",\"node\":\"dc534c8e-7f44-4ae0-9cf1-2d602fa390f5\",\"time\":\"2020-02-12T15:50:38.783001Z\",\"input\":\"Janvier\",\"name\":\"Mois de rappel\"},\"total_enfants_enregistres_mois_precedent\":{\"value\":\"F  17 g 32 \",\"category\":\"Other\",\"node\":\"214d7574-b4a6-4404-ac9b-11b9fb9ce500\",\"time\":\"2020-02-12T15:51:43.337993Z\",\"input\":\"F  17 g 32 \",\"name\":\"Total enfants enregistres mois precedent\"}},\"created_on\":\"2020-02-12T15:50:38.782710Z\",\"modified_on\":\"2020-02-12T15:53:11.483429Z\",\"exited_on\":\"2020-02-12T15:53:11.479273Z\",\"exit_type\":\"interrupted\"},{\"id\":1024292818,\"uuid\":\"094e4cc5-db79-43ba-a43c-36f8e73d1043\",\"flow\":{\"uuid\":\"e665a1b5-2b15-4de6-9d77-4521ff502fc9\",\"name\":\"Flux-Rappels-Naissances-Mois-v3\"},\"contact\":{\"uuid\":\"753aa53c-6498-44dd-a034-30a8e76615f3\",\"urn\":\"tel:+221782806785\",\"name\":\"Lamine Balde\"},\"start\":null,\"responded\":true,\"path\":[{\"node\":\"dc534c8e-7f44-4ae0-9cf1-2d602fa390f5\",\"time\":\"2020-02-06T12:24:33.823532Z\"},{\"node\":\"c4b12b47-dd9f-43af-9d33-d6d29ee957ef\",\"time\":\"2020-02-06T12:24:33.823823Z\"},{\"node\":\"214d7574-b4a6-4404-ac9b-11b9fb9ce500\",\"time\":\"2020-02-06T12:24:33.823917Z\"},{\"node\":\"eec3dc6c-466e-4454-8e4f-79d7b7586326\",\"time\":\"2020-02-06T12:27:08.680815Z\"},{\"node\":\"214d7574-b4a6-4404-ac9b-11b9fb9ce500\",\"time\":\"2020-02-06T12:27:08.680856Z\"},{\"node\":\"eec3dc6c-466e-4454-8e4f-79d7b7586326\",\"time\":\"2020-02-06T12:29:05.335764Z\"},{\"node\":\"214d7574-b4a6-4404-ac9b-11b9fb9ce500\",\"time\":\"2020-02-06T12:29:05.335850Z\"},{\"node\":\"31805da8-f021-45ff-ac1f-4123097d97a0\",\"time\":\"2020-02-07T12:30:01.460110Z\"},{\"node\":\"1dc0db47-a1fc-43f4-9255-434487ff093e\",\"time\":\"2020-02-07T12:30:01.460222Z\"},{\"node\":\"fd09c884-78ea-4b8b-8052-a9efce615067\",\"time\":\"2020-02-07T12:30:01.460520Z\"}],\"values\":{\"depassement_delai_rapportage\":{\"value\":\"1\",\"category\":\"Other\",\"node\":\"1dc0db47-a1fc-43f4-9255-434487ff093e\",\"time\":\"2020-02-07T12:30:01.460507Z\",\"input\":\"1\",\"name\":\"depassement delai rapportage\"},\"mois_de_rappel\":{\"value\":\"Janvier\",\"category\":\"Janvier\",\"node\":\"dc534c8e-7f44-4ae0-9cf1-2d602fa390f5\",\"time\":\"2020-02-06T12:24:33.823810Z\",\"input\":\"Janvier\",\"name\":\"Mois de rappel\"},\"rappel_1\":{\"value\":\"oui\",\"category\":\"continuation\",\"node\":\"fd09c884-78ea-4b8b-8052-a9efce615067\",\"time\":\"2020-02-07T12:33:28.788294Z\",\"input\":\"oui\",\"name\":\"Rappel 1\"},\"total_enfants_enregistres_mois_precedent\":{\"value\":\"2020-02-07T12:30:01.459835Z\",\"category\":\"No Response\",\"node\":\"214d7574-b4a6-4404-ac9b-11b9fb9ce500\",\"time\":\"2020-02-07T12:30:01.460093Z\",\"input\":null,\"name\":\"Total enfants enregistres mois precedent\"}},\"created_on\":\"2020-02-06T12:24:33.823517Z\",\"modified_on\":\"2020-02-07T12:33:28.788752Z\",\"exited_on\":\"2020-02-07T12:33:28.788313Z\",\"exit_type\":\"completed\"},{\"id\":1024149695,\"uuid\":\"e40fecb1-9a39-4b95-9522-429a712aca92\",\"flow\":{\"uuid\":\"e665a1b5-2b15-4de6-9d77-4521ff502fc9\",\"name\":\"Flux-Rappels-Naissances-Mois-v3\"},\"contact\":{\"uuid\":\"753aa53c-6498-44dd-a034-30a8e76615f3\",\"urn\":\"tel:+221782806785\",\"name\":\"Lamine Balde\"},\"start\":null,\"responded\":true,\"path\":[{\"node\":\"dc534c8e-7f44-4ae0-9cf1-2d602fa390f5\",\"time\":\"2020-02-05T14:08:22.779934Z\"},{\"node\":\"c4b12b47-dd9f-43af-9d33-d6d29ee957ef\",\"time\":\"2020-02-05T14:08:22.780410Z\"},{\"node\":\"214d7574-b4a6-4404-ac9b-11b9fb9ce500\",\"time\":\"2020-02-05T14:08:22.780580Z\"},{\"node\":\"eec3dc6c-466e-4454-8e4f-79d7b7586326\",\"time\":\"2020-02-05T14:11:01.171537Z\"},{\"node\":\"214d7574-b4a6-4404-ac9b-11b9fb9ce500\",\"time\":\"2020-02-05T14:11:01.171576Z\"}],\"values\":{\"mois_de_rappel\":{\"value\":\"Janvier\",\"category\":\"Janvier\",\"node\":\"dc534c8e-7f44-4ae0-9cf1-2d602fa390f5\",\"time\":\"2020-02-05T14:08:22.780391Z\",\"input\":\"Janvier\",\"name\":\"Mois de rappel\"},\"total_enfants_enregistres_mois_precedent\":{\"value\":\"F  06  G 09\",\"category\":\"Other\",\"node\":\"214d7574-b4a6-4404-ac9b-11b9fb9ce500\",\"time\":\"2020-02-05T14:11:01.171519Z\",\"input\":\"F  06  G 09\",\"name\":\"Total enfants enregistres mois precedent\"}},\"created_on\":\"2020-02-05T14:08:22.779913Z\",\"modified_on\":\"2020-02-06T12:23:31.082017Z\",\"exited_on\":\"2020-02-06T12:23:31.078073Z\",\"exit_type\":\"interrupted\"}]}\n"
     ]
    }
   ],
   "source": [
    "import requests\n",
    "print(data.decode(\"utf-8\"))"
   ]
  },
  {
   "cell_type": "markdown",
   "metadata": {},
   "source": [
    "## Exploitation des données"
   ]
  },
  {
   "cell_type": "code",
   "execution_count": 4,
   "metadata": {},
   "outputs": [
    {
     "data": {
      "text/plain": [
       "bytes"
      ]
     },
     "execution_count": 4,
     "metadata": {},
     "output_type": "execute_result"
    }
   ],
   "source": [
    "type(data)"
   ]
  },
  {
   "cell_type": "markdown",
   "metadata": {},
   "source": [
    "### Conversion en dictionnaire\n",
    "Notre nouvelle variable est data_rappels_naissances."
   ]
  },
  {
   "cell_type": "code",
   "execution_count": 5,
   "metadata": {},
   "outputs": [
    {
     "data": {
      "text/plain": [
       "dict"
      ]
     },
     "execution_count": 5,
     "metadata": {},
     "output_type": "execute_result"
    }
   ],
   "source": [
    "data_rappels_naissances = json.loads(data)\n",
    "type(data_rappels_naissances)"
   ]
  },
  {
   "cell_type": "markdown",
   "metadata": {},
   "source": [
    "### Extraction des informations de la clé 'results' de notre dictionnaire 'data_rappels_naissances'\n",
    "Le travail restant ne portant que sur la valeur de la clé 'result', on affecte le resultat à notre variable 'data_rappels_naissances'."
   ]
  },
  {
   "cell_type": "code",
   "execution_count": 6,
   "metadata": {},
   "outputs": [
    {
     "data": {
      "text/plain": [
       "list"
      ]
     },
     "execution_count": 6,
     "metadata": {},
     "output_type": "execute_result"
    }
   ],
   "source": [
    "data_rappels_naissances = data_rappels_naissances.get(\"results\")\n",
    "type(data_rappels_naissances)"
   ]
  },
  {
   "cell_type": "markdown",
   "metadata": {},
   "source": [
    "#### Un exemple de la structure de notre liste 'data_rappels_naissances' :"
   ]
  },
  {
   "cell_type": "code",
   "execution_count": 7,
   "metadata": {},
   "outputs": [
    {
     "data": {
      "text/plain": [
       "{'id': 1080077027,\n",
       " 'uuid': 'd8fc74f3-8c69-4a46-a738-a97a15bb36bf',\n",
       " 'flow': {'uuid': 'e665a1b5-2b15-4de6-9d77-4521ff502fc9',\n",
       "  'name': 'Flux-Rappels-Naissances-Mois-v3'},\n",
       " 'contact': {'uuid': '753aa53c-6498-44dd-a034-30a8e76615f3',\n",
       "  'urn': 'tel:+221782806785',\n",
       "  'name': 'Lamine Balde'},\n",
       " 'start': None,\n",
       " 'responded': False,\n",
       " 'path': [{'node': 'dc534c8e-7f44-4ae0-9cf1-2d602fa390f5',\n",
       "   'time': '2020-04-07T14:59:21.930270Z'},\n",
       "  {'node': 'c4b12b47-dd9f-43af-9d33-d6d29ee957ef',\n",
       "   'time': '2020-04-07T14:59:21.930780Z'},\n",
       "  {'node': '214d7574-b4a6-4404-ac9b-11b9fb9ce500',\n",
       "   'time': '2020-04-07T14:59:21.930959Z'}],\n",
       " 'values': {'mois_de_rappel': {'value': 'Janvier',\n",
       "   'category': 'Janvier',\n",
       "   'node': 'dc534c8e-7f44-4ae0-9cf1-2d602fa390f5',\n",
       "   'time': '2020-04-07T14:59:21.930761Z',\n",
       "   'input': 'Janvier',\n",
       "   'name': 'Mois de rappel'}},\n",
       " 'created_on': '2020-04-07T14:59:21.930249Z',\n",
       " 'modified_on': '2020-04-07T14:59:21.931079Z',\n",
       " 'exited_on': None,\n",
       " 'exit_type': None}"
      ]
     },
     "execution_count": 7,
     "metadata": {},
     "output_type": "execute_result"
    }
   ],
   "source": [
    "data_rappels_naissances[0]"
   ]
  },
  {
   "cell_type": "markdown",
   "metadata": {},
   "source": [
    "## Transformation des données"
   ]
  },
  {
   "cell_type": "markdown",
   "metadata": {},
   "source": [
    "###  Extension de chaque dictionnaire de la liste data_rappels_naissances par les colonnes suivantes :\n",
    "-Extraction des valeurs de la clé 'contact' :\n",
    " 'contact_uuid',  'contact_name', 'contact_urn'\n",
    " \n",
    "-Extraction des valeurs de la clé 'values' :\n",
    " 'confirmation_finale', 'depassement_delai_rapportage', 'mois_de_rappel'"
   ]
  },
  {
   "cell_type": "code",
   "execution_count": 10,
   "metadata": {},
   "outputs": [],
   "source": [
    "#Extension de chaque dictionnaire de la liste dataB par les champs :\n",
    "#   contact_name, contact_uuid, contact_urn\n",
    "for a in  range(0,len(data_rappels_naissances) - 1):\n",
    "    \n",
    "    #Extraction des valeurs du champs 'contact'\n",
    "    contact_uuid = data_rappels_naissances[a].get('contact').get('uuid')\n",
    "    contact_urn = data_rappels_naissances[a].get('contact').get('urn')\n",
    "    contact_name = data_rappels_naissances[a].get('contact').get('name')\n",
    "    \n",
    "    #Extraction des valeurs du champ 'values'\n",
    "    if 'confirmation_finale' in data_rappels_naissances[a].get('values'):\n",
    "        confirmation_finale = data_rappels_naissances[a].get('values').get('confirmation_finale').get('value')\n",
    "        data_rappels_naissances[a]['confirmation_finale'] = confirmation_finale\n",
    "    if 'depassement_delai_rapportage' in data_rappels_naissances[a].get('values'):\n",
    "        depassement_delai_rapportage = data_rappels_naissances[a].get('values').get('depassement_delai_rapportage').get('value')\n",
    "        data_rappels_naissances[a]['depassement_delai_rapportage'] = depassement_delai_rapportage\n",
    "    if 'mois_de_rappel' in data_rappels_naissances[a].get('values'):\n",
    "        mois_de_rappel = data_rappels_naissances[a].get('values').get('mois_de_rappel').get('value')\n",
    "    \n",
    "    data_rappels_naissances[a].update({'contact_uuid' :contact_uuid,\n",
    "                                       'contact_urn' : contact_urn,\n",
    "                                       'contact_name' : contact_name,\n",
    "                                       'mois_de_rappel' : mois_de_rappel})"
   ]
  },
  {
   "cell_type": "markdown",
   "metadata": {},
   "source": [
    "### Conversion de la liste 'data_rappels_naissances' en dataFrame\n",
    "\n",
    "Importation de la librairie pandas"
   ]
  },
  {
   "cell_type": "code",
   "execution_count": 11,
   "metadata": {
    "scrolled": true
   },
   "outputs": [
    {
     "data": {
      "text/html": [
       "<div>\n",
       "<style scoped>\n",
       "    .dataframe tbody tr th:only-of-type {\n",
       "        vertical-align: middle;\n",
       "    }\n",
       "\n",
       "    .dataframe tbody tr th {\n",
       "        vertical-align: top;\n",
       "    }\n",
       "\n",
       "    .dataframe thead th {\n",
       "        text-align: right;\n",
       "    }\n",
       "</style>\n",
       "<table border=\"1\" class=\"dataframe\">\n",
       "  <thead>\n",
       "    <tr style=\"text-align: right;\">\n",
       "      <th></th>\n",
       "      <th>id</th>\n",
       "      <th>uuid</th>\n",
       "      <th>flow</th>\n",
       "      <th>contact</th>\n",
       "      <th>start</th>\n",
       "      <th>responded</th>\n",
       "      <th>path</th>\n",
       "      <th>values</th>\n",
       "      <th>created_on</th>\n",
       "      <th>modified_on</th>\n",
       "      <th>exited_on</th>\n",
       "      <th>exit_type</th>\n",
       "      <th>contact_uuid</th>\n",
       "      <th>contact_urn</th>\n",
       "      <th>contact_name</th>\n",
       "      <th>mois_de_rappel</th>\n",
       "      <th>confirmation_finale</th>\n",
       "      <th>depassement_delai_rapportage</th>\n",
       "    </tr>\n",
       "  </thead>\n",
       "  <tbody>\n",
       "    <tr>\n",
       "      <td>0</td>\n",
       "      <td>1080077027</td>\n",
       "      <td>d8fc74f3-8c69-4a46-a738-a97a15bb36bf</td>\n",
       "      <td>{'uuid': 'e665a1b5-2b15-4de6-9d77-4521ff502fc9...</td>\n",
       "      <td>{'uuid': '753aa53c-6498-44dd-a034-30a8e76615f3...</td>\n",
       "      <td>None</td>\n",
       "      <td>False</td>\n",
       "      <td>[{'node': 'dc534c8e-7f44-4ae0-9cf1-2d602fa390f...</td>\n",
       "      <td>{'mois_de_rappel': {'value': 'Janvier', 'categ...</td>\n",
       "      <td>2020-04-07T14:59:21.930249Z</td>\n",
       "      <td>2020-04-07T14:59:21.931079Z</td>\n",
       "      <td>None</td>\n",
       "      <td>None</td>\n",
       "      <td>753aa53c-6498-44dd-a034-30a8e76615f3</td>\n",
       "      <td>tel:+221782806785</td>\n",
       "      <td>Lamine Balde</td>\n",
       "      <td>Janvier</td>\n",
       "      <td>NaN</td>\n",
       "      <td>NaN</td>\n",
       "    </tr>\n",
       "    <tr>\n",
       "      <td>1</td>\n",
       "      <td>1076189376</td>\n",
       "      <td>32d686b5-317c-45cc-8c9b-7e091d79c076</td>\n",
       "      <td>{'uuid': 'e665a1b5-2b15-4de6-9d77-4521ff502fc9...</td>\n",
       "      <td>{'uuid': '753aa53c-6498-44dd-a034-30a8e76615f3...</td>\n",
       "      <td>None</td>\n",
       "      <td>True</td>\n",
       "      <td>[{'node': 'dc534c8e-7f44-4ae0-9cf1-2d602fa390f...</td>\n",
       "      <td>{'confirmation_finale': {'value': 'OUI O', 'ca...</td>\n",
       "      <td>2020-04-06T12:36:48.079726Z</td>\n",
       "      <td>2020-04-06T12:42:21.021157Z</td>\n",
       "      <td>2020-04-06T12:42:21.019112Z</td>\n",
       "      <td>completed</td>\n",
       "      <td>753aa53c-6498-44dd-a034-30a8e76615f3</td>\n",
       "      <td>tel:+221782806785</td>\n",
       "      <td>Lamine Balde</td>\n",
       "      <td>Fevrier</td>\n",
       "      <td>OUI O</td>\n",
       "      <td>NaN</td>\n",
       "    </tr>\n",
       "    <tr>\n",
       "      <td>2</td>\n",
       "      <td>1046183665</td>\n",
       "      <td>e5188f13-90b2-4d59-a078-3a386c4c7ca8</td>\n",
       "      <td>{'uuid': 'e665a1b5-2b15-4de6-9d77-4521ff502fc9...</td>\n",
       "      <td>{'uuid': '125f43a1-3802-483c-98a7-a1ac8b17c5c5...</td>\n",
       "      <td>None</td>\n",
       "      <td>True</td>\n",
       "      <td>[{'node': 'dc534c8e-7f44-4ae0-9cf1-2d602fa390f...</td>\n",
       "      <td>{'confirmation_finale': {'value': 'Oui', 'cate...</td>\n",
       "      <td>2020-03-12T12:07:42.433051Z</td>\n",
       "      <td>2020-03-12T12:10:06.565197Z</td>\n",
       "      <td>2020-03-12T12:10:06.561831Z</td>\n",
       "      <td>completed</td>\n",
       "      <td>125f43a1-3802-483c-98a7-a1ac8b17c5c5</td>\n",
       "      <td>tel:+221778075147</td>\n",
       "      <td>Ahmet Khouma</td>\n",
       "      <td>Janvier</td>\n",
       "      <td>Oui</td>\n",
       "      <td>NaN</td>\n",
       "    </tr>\n",
       "    <tr>\n",
       "      <td>3</td>\n",
       "      <td>1045785646</td>\n",
       "      <td>b30f7e8b-c03e-4712-a50d-6099c1d70153</td>\n",
       "      <td>{'uuid': 'e665a1b5-2b15-4de6-9d77-4521ff502fc9...</td>\n",
       "      <td>{'uuid': '94b1e99d-81f4-49a5-9cb5-026f34783c28...</td>\n",
       "      <td>None</td>\n",
       "      <td>True</td>\n",
       "      <td>[{'node': 'dc534c8e-7f44-4ae0-9cf1-2d602fa390f...</td>\n",
       "      <td>{'confirmation_finale': {'value': 'Oui', 'cate...</td>\n",
       "      <td>2020-03-11T10:11:28.856786Z</td>\n",
       "      <td>2020-03-11T10:17:11.240672Z</td>\n",
       "      <td>2020-03-11T10:17:11.239094Z</td>\n",
       "      <td>completed</td>\n",
       "      <td>94b1e99d-81f4-49a5-9cb5-026f34783c28</td>\n",
       "      <td>tel:+221770463545</td>\n",
       "      <td>Mamadou Malado Sylla</td>\n",
       "      <td>Janvier</td>\n",
       "      <td>Oui</td>\n",
       "      <td>NaN</td>\n",
       "    </tr>\n",
       "    <tr>\n",
       "      <td>4</td>\n",
       "      <td>1045678295</td>\n",
       "      <td>1e69b35d-c20f-4163-af1b-f7285d715af9</td>\n",
       "      <td>{'uuid': 'e665a1b5-2b15-4de6-9d77-4521ff502fc9...</td>\n",
       "      <td>{'uuid': '4e4229dd-a938-4546-b783-fa77b816e9e5...</td>\n",
       "      <td>None</td>\n",
       "      <td>True</td>\n",
       "      <td>[{'node': 'dc534c8e-7f44-4ae0-9cf1-2d602fa390f...</td>\n",
       "      <td>{'confirmation_finale': {'value': 'Oui', 'cate...</td>\n",
       "      <td>2020-03-10T17:13:49.597684Z</td>\n",
       "      <td>2020-03-10T17:17:34.435436Z</td>\n",
       "      <td>2020-03-10T17:17:34.435292Z</td>\n",
       "      <td>completed</td>\n",
       "      <td>4e4229dd-a938-4546-b783-fa77b816e9e5</td>\n",
       "      <td>tel:+221773576816</td>\n",
       "      <td>Fatou Kine Gueye</td>\n",
       "      <td>Fevrier</td>\n",
       "      <td>Oui</td>\n",
       "      <td>NaN</td>\n",
       "    </tr>\n",
       "    <tr>\n",
       "      <td>5</td>\n",
       "      <td>1045618112</td>\n",
       "      <td>5a37eb5c-3a93-4a5b-9c62-ec358d9ef8b6</td>\n",
       "      <td>{'uuid': 'e665a1b5-2b15-4de6-9d77-4521ff502fc9...</td>\n",
       "      <td>{'uuid': '4e4229dd-a938-4546-b783-fa77b816e9e5...</td>\n",
       "      <td>None</td>\n",
       "      <td>True</td>\n",
       "      <td>[{'node': 'dc534c8e-7f44-4ae0-9cf1-2d602fa390f...</td>\n",
       "      <td>{'confirmation_finale': {'value': 'Oui', 'cate...</td>\n",
       "      <td>2020-03-10T09:27:05.272308Z</td>\n",
       "      <td>2020-03-10T17:12:10.380565Z</td>\n",
       "      <td>2020-03-10T17:12:10.379228Z</td>\n",
       "      <td>completed</td>\n",
       "      <td>4e4229dd-a938-4546-b783-fa77b816e9e5</td>\n",
       "      <td>tel:+221773576816</td>\n",
       "      <td>Fatou Kine Gueye</td>\n",
       "      <td>Janvier</td>\n",
       "      <td>Oui</td>\n",
       "      <td>NaN</td>\n",
       "    </tr>\n",
       "    <tr>\n",
       "      <td>6</td>\n",
       "      <td>1037196734</td>\n",
       "      <td>97fdd271-4b01-461a-9757-cdbe5d1dc601</td>\n",
       "      <td>{'uuid': 'e665a1b5-2b15-4de6-9d77-4521ff502fc9...</td>\n",
       "      <td>{'uuid': '1f308250-1cfb-4afc-8eed-2ee052f28cb1...</td>\n",
       "      <td>None</td>\n",
       "      <td>True</td>\n",
       "      <td>[{'node': 'dc534c8e-7f44-4ae0-9cf1-2d602fa390f...</td>\n",
       "      <td>{'confirmation_finale': {'value': 'O', 'catego...</td>\n",
       "      <td>2020-02-27T13:00:52.913570Z</td>\n",
       "      <td>2020-02-27T13:09:43.023637Z</td>\n",
       "      <td>2020-02-27T13:09:43.021225Z</td>\n",
       "      <td>completed</td>\n",
       "      <td>1f308250-1cfb-4afc-8eed-2ee052f28cb1</td>\n",
       "      <td>tel:+221772315672</td>\n",
       "      <td>Alphousseyny Mballo</td>\n",
       "      <td>Janvier</td>\n",
       "      <td>O</td>\n",
       "      <td>NaN</td>\n",
       "    </tr>\n",
       "    <tr>\n",
       "      <td>7</td>\n",
       "      <td>1036223982</td>\n",
       "      <td>4c266f5e-369d-4499-86c2-0100ba84b883</td>\n",
       "      <td>{'uuid': 'e665a1b5-2b15-4de6-9d77-4521ff502fc9...</td>\n",
       "      <td>{'uuid': '555ab6e4-c7a4-4fb6-8a9d-96dcaaa1fb60...</td>\n",
       "      <td>None</td>\n",
       "      <td>True</td>\n",
       "      <td>[{'node': 'dc534c8e-7f44-4ae0-9cf1-2d602fa390f...</td>\n",
       "      <td>{'confirmation_finale': {'value': 'O', 'catego...</td>\n",
       "      <td>2020-02-25T13:48:49.516778Z</td>\n",
       "      <td>2020-02-25T13:55:01.845763Z</td>\n",
       "      <td>2020-02-25T13:55:01.844339Z</td>\n",
       "      <td>completed</td>\n",
       "      <td>555ab6e4-c7a4-4fb6-8a9d-96dcaaa1fb60</td>\n",
       "      <td>tel:+221775142350</td>\n",
       "      <td>Dicory Baldé</td>\n",
       "      <td>Janvier</td>\n",
       "      <td>O</td>\n",
       "      <td>NaN</td>\n",
       "    </tr>\n",
       "    <tr>\n",
       "      <td>8</td>\n",
       "      <td>1036223915</td>\n",
       "      <td>8287c236-ba1f-4780-b3d4-18b18c90ac62</td>\n",
       "      <td>{'uuid': 'e665a1b5-2b15-4de6-9d77-4521ff502fc9...</td>\n",
       "      <td>{'uuid': '555ab6e4-c7a4-4fb6-8a9d-96dcaaa1fb60...</td>\n",
       "      <td>None</td>\n",
       "      <td>True</td>\n",
       "      <td>[{'node': 'dc534c8e-7f44-4ae0-9cf1-2d602fa390f...</td>\n",
       "      <td>{'mois_de_rappel': {'value': 'Janvier', 'categ...</td>\n",
       "      <td>2020-02-25T13:47:05.073954Z</td>\n",
       "      <td>2020-02-25T13:48:28.817589Z</td>\n",
       "      <td>2020-02-25T13:48:28.813488Z</td>\n",
       "      <td>interrupted</td>\n",
       "      <td>555ab6e4-c7a4-4fb6-8a9d-96dcaaa1fb60</td>\n",
       "      <td>tel:+221775142350</td>\n",
       "      <td>Dicory Baldé</td>\n",
       "      <td>Janvier</td>\n",
       "      <td>NaN</td>\n",
       "      <td>NaN</td>\n",
       "    </tr>\n",
       "    <tr>\n",
       "      <td>9</td>\n",
       "      <td>1027560162</td>\n",
       "      <td>b4288d1c-b631-4524-84db-f5c77560ad39</td>\n",
       "      <td>{'uuid': 'e665a1b5-2b15-4de6-9d77-4521ff502fc9...</td>\n",
       "      <td>{'uuid': '94b1e99d-81f4-49a5-9cb5-026f34783c28...</td>\n",
       "      <td>None</td>\n",
       "      <td>True</td>\n",
       "      <td>[{'node': 'dc534c8e-7f44-4ae0-9cf1-2d602fa390f...</td>\n",
       "      <td>{'depassement_delai_rapportage': {'value': '2'...</td>\n",
       "      <td>2020-02-13T15:12:54.696752Z</td>\n",
       "      <td>2020-02-20T15:17:01.791374Z</td>\n",
       "      <td>2020-02-20T15:17:01.791245Z</td>\n",
       "      <td>completed</td>\n",
       "      <td>94b1e99d-81f4-49a5-9cb5-026f34783c28</td>\n",
       "      <td>tel:+221770463545</td>\n",
       "      <td>Mamadou Malado Sylla</td>\n",
       "      <td>Janvier</td>\n",
       "      <td>NaN</td>\n",
       "      <td>2</td>\n",
       "    </tr>\n",
       "    <tr>\n",
       "      <td>10</td>\n",
       "      <td>1027060539</td>\n",
       "      <td>df9c7f64-1a0c-4f96-ba8a-e14db409cec0</td>\n",
       "      <td>{'uuid': 'e665a1b5-2b15-4de6-9d77-4521ff502fc9...</td>\n",
       "      <td>{'uuid': '997591a5-601b-414b-9947-f5fbd57cac1b...</td>\n",
       "      <td>None</td>\n",
       "      <td>True</td>\n",
       "      <td>[{'node': 'dc534c8e-7f44-4ae0-9cf1-2d602fa390f...</td>\n",
       "      <td>{'mois_de_rappel': {'value': 'Janvier', 'categ...</td>\n",
       "      <td>2020-02-12T16:00:22.766596Z</td>\n",
       "      <td>2020-02-12T16:03:55.455269Z</td>\n",
       "      <td>2020-02-12T16:03:55.372020Z</td>\n",
       "      <td>interrupted</td>\n",
       "      <td>997591a5-601b-414b-9947-f5fbd57cac1b</td>\n",
       "      <td>tel:+221773547183</td>\n",
       "      <td>Aminata Balde</td>\n",
       "      <td>Janvier</td>\n",
       "      <td>NaN</td>\n",
       "      <td>NaN</td>\n",
       "    </tr>\n",
       "    <tr>\n",
       "      <td>11</td>\n",
       "      <td>1027060491</td>\n",
       "      <td>21fed133-8b94-4a56-8bba-d547e666837a</td>\n",
       "      <td>{'uuid': 'e665a1b5-2b15-4de6-9d77-4521ff502fc9...</td>\n",
       "      <td>{'uuid': '997591a5-601b-414b-9947-f5fbd57cac1b...</td>\n",
       "      <td>None</td>\n",
       "      <td>True</td>\n",
       "      <td>[{'node': 'dc534c8e-7f44-4ae0-9cf1-2d602fa390f...</td>\n",
       "      <td>{'mois_de_rappel': {'value': 'Janvier', 'categ...</td>\n",
       "      <td>2020-02-12T15:58:35.536505Z</td>\n",
       "      <td>2020-02-12T16:00:06.166563Z</td>\n",
       "      <td>2020-02-12T16:00:06.161591Z</td>\n",
       "      <td>interrupted</td>\n",
       "      <td>997591a5-601b-414b-9947-f5fbd57cac1b</td>\n",
       "      <td>tel:+221773547183</td>\n",
       "      <td>Aminata Balde</td>\n",
       "      <td>Janvier</td>\n",
       "      <td>NaN</td>\n",
       "      <td>NaN</td>\n",
       "    </tr>\n",
       "    <tr>\n",
       "      <td>12</td>\n",
       "      <td>1027060419</td>\n",
       "      <td>25be2e70-a6fa-49b8-94ee-ca9ee48c0816</td>\n",
       "      <td>{'uuid': 'e665a1b5-2b15-4de6-9d77-4521ff502fc9...</td>\n",
       "      <td>{'uuid': '997591a5-601b-414b-9947-f5fbd57cac1b...</td>\n",
       "      <td>None</td>\n",
       "      <td>True</td>\n",
       "      <td>[{'node': 'dc534c8e-7f44-4ae0-9cf1-2d602fa390f...</td>\n",
       "      <td>{'mois_de_rappel': {'value': 'Janvier', 'categ...</td>\n",
       "      <td>2020-02-12T15:56:01.871719Z</td>\n",
       "      <td>2020-02-12T15:58:14.427754Z</td>\n",
       "      <td>2020-02-12T15:58:14.423514Z</td>\n",
       "      <td>interrupted</td>\n",
       "      <td>997591a5-601b-414b-9947-f5fbd57cac1b</td>\n",
       "      <td>tel:+221773547183</td>\n",
       "      <td>Aminata Balde</td>\n",
       "      <td>Janvier</td>\n",
       "      <td>NaN</td>\n",
       "      <td>NaN</td>\n",
       "    </tr>\n",
       "    <tr>\n",
       "      <td>13</td>\n",
       "      <td>1027060342</td>\n",
       "      <td>5f95e455-8703-4fec-b58c-45cdb9a7eaaf</td>\n",
       "      <td>{'uuid': 'e665a1b5-2b15-4de6-9d77-4521ff502fc9...</td>\n",
       "      <td>{'uuid': '997591a5-601b-414b-9947-f5fbd57cac1b...</td>\n",
       "      <td>None</td>\n",
       "      <td>True</td>\n",
       "      <td>[{'node': 'dc534c8e-7f44-4ae0-9cf1-2d602fa390f...</td>\n",
       "      <td>{'mois_de_rappel': {'value': 'Janvier', 'categ...</td>\n",
       "      <td>2020-02-12T15:53:33.353466Z</td>\n",
       "      <td>2020-02-12T15:55:42.536123Z</td>\n",
       "      <td>2020-02-12T15:55:42.532523Z</td>\n",
       "      <td>interrupted</td>\n",
       "      <td>997591a5-601b-414b-9947-f5fbd57cac1b</td>\n",
       "      <td>tel:+221773547183</td>\n",
       "      <td>Aminata Balde</td>\n",
       "      <td>Janvier</td>\n",
       "      <td>NaN</td>\n",
       "      <td>NaN</td>\n",
       "    </tr>\n",
       "    <tr>\n",
       "      <td>14</td>\n",
       "      <td>1027060276</td>\n",
       "      <td>2848183e-0200-48bc-afbb-0adc4e11e148</td>\n",
       "      <td>{'uuid': 'e665a1b5-2b15-4de6-9d77-4521ff502fc9...</td>\n",
       "      <td>{'uuid': '997591a5-601b-414b-9947-f5fbd57cac1b...</td>\n",
       "      <td>None</td>\n",
       "      <td>True</td>\n",
       "      <td>[{'node': 'dc534c8e-7f44-4ae0-9cf1-2d602fa390f...</td>\n",
       "      <td>{'mois_de_rappel': {'value': 'Janvier', 'categ...</td>\n",
       "      <td>2020-02-12T15:50:38.782710Z</td>\n",
       "      <td>2020-02-12T15:53:11.483429Z</td>\n",
       "      <td>2020-02-12T15:53:11.479273Z</td>\n",
       "      <td>interrupted</td>\n",
       "      <td>997591a5-601b-414b-9947-f5fbd57cac1b</td>\n",
       "      <td>tel:+221773547183</td>\n",
       "      <td>Aminata Balde</td>\n",
       "      <td>Janvier</td>\n",
       "      <td>NaN</td>\n",
       "      <td>NaN</td>\n",
       "    </tr>\n",
       "    <tr>\n",
       "      <td>15</td>\n",
       "      <td>1024292818</td>\n",
       "      <td>094e4cc5-db79-43ba-a43c-36f8e73d1043</td>\n",
       "      <td>{'uuid': 'e665a1b5-2b15-4de6-9d77-4521ff502fc9...</td>\n",
       "      <td>{'uuid': '753aa53c-6498-44dd-a034-30a8e76615f3...</td>\n",
       "      <td>None</td>\n",
       "      <td>True</td>\n",
       "      <td>[{'node': 'dc534c8e-7f44-4ae0-9cf1-2d602fa390f...</td>\n",
       "      <td>{'depassement_delai_rapportage': {'value': '1'...</td>\n",
       "      <td>2020-02-06T12:24:33.823517Z</td>\n",
       "      <td>2020-02-07T12:33:28.788752Z</td>\n",
       "      <td>2020-02-07T12:33:28.788313Z</td>\n",
       "      <td>completed</td>\n",
       "      <td>753aa53c-6498-44dd-a034-30a8e76615f3</td>\n",
       "      <td>tel:+221782806785</td>\n",
       "      <td>Lamine Balde</td>\n",
       "      <td>Janvier</td>\n",
       "      <td>NaN</td>\n",
       "      <td>1</td>\n",
       "    </tr>\n",
       "    <tr>\n",
       "      <td>16</td>\n",
       "      <td>1024149695</td>\n",
       "      <td>e40fecb1-9a39-4b95-9522-429a712aca92</td>\n",
       "      <td>{'uuid': 'e665a1b5-2b15-4de6-9d77-4521ff502fc9...</td>\n",
       "      <td>{'uuid': '753aa53c-6498-44dd-a034-30a8e76615f3...</td>\n",
       "      <td>None</td>\n",
       "      <td>True</td>\n",
       "      <td>[{'node': 'dc534c8e-7f44-4ae0-9cf1-2d602fa390f...</td>\n",
       "      <td>{'mois_de_rappel': {'value': 'Janvier', 'categ...</td>\n",
       "      <td>2020-02-05T14:08:22.779913Z</td>\n",
       "      <td>2020-02-06T12:23:31.082017Z</td>\n",
       "      <td>2020-02-06T12:23:31.078073Z</td>\n",
       "      <td>interrupted</td>\n",
       "      <td>NaN</td>\n",
       "      <td>NaN</td>\n",
       "      <td>NaN</td>\n",
       "      <td>NaN</td>\n",
       "      <td>NaN</td>\n",
       "      <td>NaN</td>\n",
       "    </tr>\n",
       "  </tbody>\n",
       "</table>\n",
       "</div>"
      ],
      "text/plain": [
       "            id                                  uuid  \\\n",
       "0   1080077027  d8fc74f3-8c69-4a46-a738-a97a15bb36bf   \n",
       "1   1076189376  32d686b5-317c-45cc-8c9b-7e091d79c076   \n",
       "2   1046183665  e5188f13-90b2-4d59-a078-3a386c4c7ca8   \n",
       "3   1045785646  b30f7e8b-c03e-4712-a50d-6099c1d70153   \n",
       "4   1045678295  1e69b35d-c20f-4163-af1b-f7285d715af9   \n",
       "5   1045618112  5a37eb5c-3a93-4a5b-9c62-ec358d9ef8b6   \n",
       "6   1037196734  97fdd271-4b01-461a-9757-cdbe5d1dc601   \n",
       "7   1036223982  4c266f5e-369d-4499-86c2-0100ba84b883   \n",
       "8   1036223915  8287c236-ba1f-4780-b3d4-18b18c90ac62   \n",
       "9   1027560162  b4288d1c-b631-4524-84db-f5c77560ad39   \n",
       "10  1027060539  df9c7f64-1a0c-4f96-ba8a-e14db409cec0   \n",
       "11  1027060491  21fed133-8b94-4a56-8bba-d547e666837a   \n",
       "12  1027060419  25be2e70-a6fa-49b8-94ee-ca9ee48c0816   \n",
       "13  1027060342  5f95e455-8703-4fec-b58c-45cdb9a7eaaf   \n",
       "14  1027060276  2848183e-0200-48bc-afbb-0adc4e11e148   \n",
       "15  1024292818  094e4cc5-db79-43ba-a43c-36f8e73d1043   \n",
       "16  1024149695  e40fecb1-9a39-4b95-9522-429a712aca92   \n",
       "\n",
       "                                                 flow  \\\n",
       "0   {'uuid': 'e665a1b5-2b15-4de6-9d77-4521ff502fc9...   \n",
       "1   {'uuid': 'e665a1b5-2b15-4de6-9d77-4521ff502fc9...   \n",
       "2   {'uuid': 'e665a1b5-2b15-4de6-9d77-4521ff502fc9...   \n",
       "3   {'uuid': 'e665a1b5-2b15-4de6-9d77-4521ff502fc9...   \n",
       "4   {'uuid': 'e665a1b5-2b15-4de6-9d77-4521ff502fc9...   \n",
       "5   {'uuid': 'e665a1b5-2b15-4de6-9d77-4521ff502fc9...   \n",
       "6   {'uuid': 'e665a1b5-2b15-4de6-9d77-4521ff502fc9...   \n",
       "7   {'uuid': 'e665a1b5-2b15-4de6-9d77-4521ff502fc9...   \n",
       "8   {'uuid': 'e665a1b5-2b15-4de6-9d77-4521ff502fc9...   \n",
       "9   {'uuid': 'e665a1b5-2b15-4de6-9d77-4521ff502fc9...   \n",
       "10  {'uuid': 'e665a1b5-2b15-4de6-9d77-4521ff502fc9...   \n",
       "11  {'uuid': 'e665a1b5-2b15-4de6-9d77-4521ff502fc9...   \n",
       "12  {'uuid': 'e665a1b5-2b15-4de6-9d77-4521ff502fc9...   \n",
       "13  {'uuid': 'e665a1b5-2b15-4de6-9d77-4521ff502fc9...   \n",
       "14  {'uuid': 'e665a1b5-2b15-4de6-9d77-4521ff502fc9...   \n",
       "15  {'uuid': 'e665a1b5-2b15-4de6-9d77-4521ff502fc9...   \n",
       "16  {'uuid': 'e665a1b5-2b15-4de6-9d77-4521ff502fc9...   \n",
       "\n",
       "                                              contact start  responded  \\\n",
       "0   {'uuid': '753aa53c-6498-44dd-a034-30a8e76615f3...  None      False   \n",
       "1   {'uuid': '753aa53c-6498-44dd-a034-30a8e76615f3...  None       True   \n",
       "2   {'uuid': '125f43a1-3802-483c-98a7-a1ac8b17c5c5...  None       True   \n",
       "3   {'uuid': '94b1e99d-81f4-49a5-9cb5-026f34783c28...  None       True   \n",
       "4   {'uuid': '4e4229dd-a938-4546-b783-fa77b816e9e5...  None       True   \n",
       "5   {'uuid': '4e4229dd-a938-4546-b783-fa77b816e9e5...  None       True   \n",
       "6   {'uuid': '1f308250-1cfb-4afc-8eed-2ee052f28cb1...  None       True   \n",
       "7   {'uuid': '555ab6e4-c7a4-4fb6-8a9d-96dcaaa1fb60...  None       True   \n",
       "8   {'uuid': '555ab6e4-c7a4-4fb6-8a9d-96dcaaa1fb60...  None       True   \n",
       "9   {'uuid': '94b1e99d-81f4-49a5-9cb5-026f34783c28...  None       True   \n",
       "10  {'uuid': '997591a5-601b-414b-9947-f5fbd57cac1b...  None       True   \n",
       "11  {'uuid': '997591a5-601b-414b-9947-f5fbd57cac1b...  None       True   \n",
       "12  {'uuid': '997591a5-601b-414b-9947-f5fbd57cac1b...  None       True   \n",
       "13  {'uuid': '997591a5-601b-414b-9947-f5fbd57cac1b...  None       True   \n",
       "14  {'uuid': '997591a5-601b-414b-9947-f5fbd57cac1b...  None       True   \n",
       "15  {'uuid': '753aa53c-6498-44dd-a034-30a8e76615f3...  None       True   \n",
       "16  {'uuid': '753aa53c-6498-44dd-a034-30a8e76615f3...  None       True   \n",
       "\n",
       "                                                 path  \\\n",
       "0   [{'node': 'dc534c8e-7f44-4ae0-9cf1-2d602fa390f...   \n",
       "1   [{'node': 'dc534c8e-7f44-4ae0-9cf1-2d602fa390f...   \n",
       "2   [{'node': 'dc534c8e-7f44-4ae0-9cf1-2d602fa390f...   \n",
       "3   [{'node': 'dc534c8e-7f44-4ae0-9cf1-2d602fa390f...   \n",
       "4   [{'node': 'dc534c8e-7f44-4ae0-9cf1-2d602fa390f...   \n",
       "5   [{'node': 'dc534c8e-7f44-4ae0-9cf1-2d602fa390f...   \n",
       "6   [{'node': 'dc534c8e-7f44-4ae0-9cf1-2d602fa390f...   \n",
       "7   [{'node': 'dc534c8e-7f44-4ae0-9cf1-2d602fa390f...   \n",
       "8   [{'node': 'dc534c8e-7f44-4ae0-9cf1-2d602fa390f...   \n",
       "9   [{'node': 'dc534c8e-7f44-4ae0-9cf1-2d602fa390f...   \n",
       "10  [{'node': 'dc534c8e-7f44-4ae0-9cf1-2d602fa390f...   \n",
       "11  [{'node': 'dc534c8e-7f44-4ae0-9cf1-2d602fa390f...   \n",
       "12  [{'node': 'dc534c8e-7f44-4ae0-9cf1-2d602fa390f...   \n",
       "13  [{'node': 'dc534c8e-7f44-4ae0-9cf1-2d602fa390f...   \n",
       "14  [{'node': 'dc534c8e-7f44-4ae0-9cf1-2d602fa390f...   \n",
       "15  [{'node': 'dc534c8e-7f44-4ae0-9cf1-2d602fa390f...   \n",
       "16  [{'node': 'dc534c8e-7f44-4ae0-9cf1-2d602fa390f...   \n",
       "\n",
       "                                               values  \\\n",
       "0   {'mois_de_rappel': {'value': 'Janvier', 'categ...   \n",
       "1   {'confirmation_finale': {'value': 'OUI O', 'ca...   \n",
       "2   {'confirmation_finale': {'value': 'Oui', 'cate...   \n",
       "3   {'confirmation_finale': {'value': 'Oui', 'cate...   \n",
       "4   {'confirmation_finale': {'value': 'Oui', 'cate...   \n",
       "5   {'confirmation_finale': {'value': 'Oui', 'cate...   \n",
       "6   {'confirmation_finale': {'value': 'O', 'catego...   \n",
       "7   {'confirmation_finale': {'value': 'O', 'catego...   \n",
       "8   {'mois_de_rappel': {'value': 'Janvier', 'categ...   \n",
       "9   {'depassement_delai_rapportage': {'value': '2'...   \n",
       "10  {'mois_de_rappel': {'value': 'Janvier', 'categ...   \n",
       "11  {'mois_de_rappel': {'value': 'Janvier', 'categ...   \n",
       "12  {'mois_de_rappel': {'value': 'Janvier', 'categ...   \n",
       "13  {'mois_de_rappel': {'value': 'Janvier', 'categ...   \n",
       "14  {'mois_de_rappel': {'value': 'Janvier', 'categ...   \n",
       "15  {'depassement_delai_rapportage': {'value': '1'...   \n",
       "16  {'mois_de_rappel': {'value': 'Janvier', 'categ...   \n",
       "\n",
       "                     created_on                  modified_on  \\\n",
       "0   2020-04-07T14:59:21.930249Z  2020-04-07T14:59:21.931079Z   \n",
       "1   2020-04-06T12:36:48.079726Z  2020-04-06T12:42:21.021157Z   \n",
       "2   2020-03-12T12:07:42.433051Z  2020-03-12T12:10:06.565197Z   \n",
       "3   2020-03-11T10:11:28.856786Z  2020-03-11T10:17:11.240672Z   \n",
       "4   2020-03-10T17:13:49.597684Z  2020-03-10T17:17:34.435436Z   \n",
       "5   2020-03-10T09:27:05.272308Z  2020-03-10T17:12:10.380565Z   \n",
       "6   2020-02-27T13:00:52.913570Z  2020-02-27T13:09:43.023637Z   \n",
       "7   2020-02-25T13:48:49.516778Z  2020-02-25T13:55:01.845763Z   \n",
       "8   2020-02-25T13:47:05.073954Z  2020-02-25T13:48:28.817589Z   \n",
       "9   2020-02-13T15:12:54.696752Z  2020-02-20T15:17:01.791374Z   \n",
       "10  2020-02-12T16:00:22.766596Z  2020-02-12T16:03:55.455269Z   \n",
       "11  2020-02-12T15:58:35.536505Z  2020-02-12T16:00:06.166563Z   \n",
       "12  2020-02-12T15:56:01.871719Z  2020-02-12T15:58:14.427754Z   \n",
       "13  2020-02-12T15:53:33.353466Z  2020-02-12T15:55:42.536123Z   \n",
       "14  2020-02-12T15:50:38.782710Z  2020-02-12T15:53:11.483429Z   \n",
       "15  2020-02-06T12:24:33.823517Z  2020-02-07T12:33:28.788752Z   \n",
       "16  2020-02-05T14:08:22.779913Z  2020-02-06T12:23:31.082017Z   \n",
       "\n",
       "                      exited_on    exit_type  \\\n",
       "0                          None         None   \n",
       "1   2020-04-06T12:42:21.019112Z    completed   \n",
       "2   2020-03-12T12:10:06.561831Z    completed   \n",
       "3   2020-03-11T10:17:11.239094Z    completed   \n",
       "4   2020-03-10T17:17:34.435292Z    completed   \n",
       "5   2020-03-10T17:12:10.379228Z    completed   \n",
       "6   2020-02-27T13:09:43.021225Z    completed   \n",
       "7   2020-02-25T13:55:01.844339Z    completed   \n",
       "8   2020-02-25T13:48:28.813488Z  interrupted   \n",
       "9   2020-02-20T15:17:01.791245Z    completed   \n",
       "10  2020-02-12T16:03:55.372020Z  interrupted   \n",
       "11  2020-02-12T16:00:06.161591Z  interrupted   \n",
       "12  2020-02-12T15:58:14.423514Z  interrupted   \n",
       "13  2020-02-12T15:55:42.532523Z  interrupted   \n",
       "14  2020-02-12T15:53:11.479273Z  interrupted   \n",
       "15  2020-02-07T12:33:28.788313Z    completed   \n",
       "16  2020-02-06T12:23:31.078073Z  interrupted   \n",
       "\n",
       "                            contact_uuid        contact_urn  \\\n",
       "0   753aa53c-6498-44dd-a034-30a8e76615f3  tel:+221782806785   \n",
       "1   753aa53c-6498-44dd-a034-30a8e76615f3  tel:+221782806785   \n",
       "2   125f43a1-3802-483c-98a7-a1ac8b17c5c5  tel:+221778075147   \n",
       "3   94b1e99d-81f4-49a5-9cb5-026f34783c28  tel:+221770463545   \n",
       "4   4e4229dd-a938-4546-b783-fa77b816e9e5  tel:+221773576816   \n",
       "5   4e4229dd-a938-4546-b783-fa77b816e9e5  tel:+221773576816   \n",
       "6   1f308250-1cfb-4afc-8eed-2ee052f28cb1  tel:+221772315672   \n",
       "7   555ab6e4-c7a4-4fb6-8a9d-96dcaaa1fb60  tel:+221775142350   \n",
       "8   555ab6e4-c7a4-4fb6-8a9d-96dcaaa1fb60  tel:+221775142350   \n",
       "9   94b1e99d-81f4-49a5-9cb5-026f34783c28  tel:+221770463545   \n",
       "10  997591a5-601b-414b-9947-f5fbd57cac1b  tel:+221773547183   \n",
       "11  997591a5-601b-414b-9947-f5fbd57cac1b  tel:+221773547183   \n",
       "12  997591a5-601b-414b-9947-f5fbd57cac1b  tel:+221773547183   \n",
       "13  997591a5-601b-414b-9947-f5fbd57cac1b  tel:+221773547183   \n",
       "14  997591a5-601b-414b-9947-f5fbd57cac1b  tel:+221773547183   \n",
       "15  753aa53c-6498-44dd-a034-30a8e76615f3  tel:+221782806785   \n",
       "16                                   NaN                NaN   \n",
       "\n",
       "            contact_name mois_de_rappel confirmation_finale  \\\n",
       "0           Lamine Balde        Janvier                 NaN   \n",
       "1           Lamine Balde        Fevrier               OUI O   \n",
       "2           Ahmet Khouma        Janvier                 Oui   \n",
       "3   Mamadou Malado Sylla        Janvier                 Oui   \n",
       "4       Fatou Kine Gueye        Fevrier                 Oui   \n",
       "5       Fatou Kine Gueye        Janvier                 Oui   \n",
       "6    Alphousseyny Mballo        Janvier                   O   \n",
       "7           Dicory Baldé        Janvier                   O   \n",
       "8           Dicory Baldé        Janvier                 NaN   \n",
       "9   Mamadou Malado Sylla        Janvier                 NaN   \n",
       "10         Aminata Balde        Janvier                 NaN   \n",
       "11         Aminata Balde        Janvier                 NaN   \n",
       "12         Aminata Balde        Janvier                 NaN   \n",
       "13         Aminata Balde        Janvier                 NaN   \n",
       "14         Aminata Balde        Janvier                 NaN   \n",
       "15          Lamine Balde        Janvier                 NaN   \n",
       "16                   NaN            NaN                 NaN   \n",
       "\n",
       "   depassement_delai_rapportage  \n",
       "0                           NaN  \n",
       "1                           NaN  \n",
       "2                           NaN  \n",
       "3                           NaN  \n",
       "4                           NaN  \n",
       "5                           NaN  \n",
       "6                           NaN  \n",
       "7                           NaN  \n",
       "8                           NaN  \n",
       "9                             2  \n",
       "10                          NaN  \n",
       "11                          NaN  \n",
       "12                          NaN  \n",
       "13                          NaN  \n",
       "14                          NaN  \n",
       "15                            1  \n",
       "16                          NaN  "
      ]
     },
     "execution_count": 11,
     "metadata": {},
     "output_type": "execute_result"
    }
   ],
   "source": [
    "#importer la librairie pandas et convertir la liste en dataframe\n",
    "import pandas as pd\n",
    "data_rappels_naissances = pd.DataFrame(data_rappels_naissances)\n",
    "data_rappels_naissances"
   ]
  },
  {
   "cell_type": "markdown",
   "metadata": {},
   "source": [
    "### Conversion de la colonne 'created_on_date' au format datatime"
   ]
  },
  {
   "cell_type": "code",
   "execution_count": 12,
   "metadata": {},
   "outputs": [],
   "source": [
    "data_rappels_naissances.created_on = pd.to_datetime(data_rappels_naissances.created_on) "
   ]
  },
  {
   "cell_type": "markdown",
   "metadata": {},
   "source": [
    "### Suppression des colonnes qu'on ne vas pas utiliser"
   ]
  },
  {
   "cell_type": "code",
   "execution_count": 13,
   "metadata": {
    "scrolled": true
   },
   "outputs": [],
   "source": [
    "data_rappels_naissances = data_rappels_naissances.drop(['uuid', 'flow', 'start', 'path', 'contact', 'values', 'exited_on',], axis=1)"
   ]
  },
  {
   "cell_type": "markdown",
   "metadata": {},
   "source": [
    "### Affichage des colonnes restantes et de la taille du DataFrame     'data_rappels_naissancess'"
   ]
  },
  {
   "cell_type": "code",
   "execution_count": 14,
   "metadata": {},
   "outputs": [
    {
     "name": "stdout",
     "output_type": "stream",
     "text": [
      "Index(['id', 'responded', 'created_on', 'modified_on', 'exit_type',\n",
      "       'contact_uuid', 'contact_urn', 'contact_name', 'mois_de_rappel',\n",
      "       'confirmation_finale', 'depassement_delai_rapportage'],\n",
      "      dtype='object')\n",
      "(17, 11)\n"
     ]
    }
   ],
   "source": [
    "print(data_rappels_naissances.columns)\n",
    "print(data_rappels_naissances.shape)"
   ]
  },
  {
   "cell_type": "markdown",
   "metadata": {},
   "source": [
    "### Le type de données de chaque colonne du DataFrame "
   ]
  },
  {
   "cell_type": "code",
   "execution_count": 15,
   "metadata": {},
   "outputs": [
    {
     "name": "stdout",
     "output_type": "stream",
     "text": [
      "<class 'pandas.core.frame.DataFrame'>\n",
      "RangeIndex: 17 entries, 0 to 16\n",
      "Data columns (total 11 columns):\n",
      "id                              17 non-null int64\n",
      "responded                       17 non-null bool\n",
      "created_on                      17 non-null datetime64[ns, UTC]\n",
      "modified_on                     17 non-null object\n",
      "exit_type                       16 non-null object\n",
      "contact_uuid                    16 non-null object\n",
      "contact_urn                     16 non-null object\n",
      "contact_name                    16 non-null object\n",
      "mois_de_rappel                  16 non-null object\n",
      "confirmation_finale             7 non-null object\n",
      "depassement_delai_rapportage    2 non-null object\n",
      "dtypes: bool(1), datetime64[ns, UTC](1), int64(1), object(8)\n",
      "memory usage: 1.5+ KB\n"
     ]
    }
   ],
   "source": [
    "data_rappels_naissances.info()"
   ]
  },
  {
   "cell_type": "markdown",
   "metadata": {},
   "source": [
    "### Le nombre de valeurs manquantes pour chaque variable du DataFrame 'data_rapport_naissances'"
   ]
  },
  {
   "cell_type": "code",
   "execution_count": 16,
   "metadata": {},
   "outputs": [
    {
     "data": {
      "text/plain": [
       "id                               0\n",
       "responded                        0\n",
       "created_on                       0\n",
       "modified_on                      0\n",
       "exit_type                        1\n",
       "contact_uuid                     1\n",
       "contact_urn                      1\n",
       "contact_name                     1\n",
       "mois_de_rappel                   1\n",
       "confirmation_finale             10\n",
       "depassement_delai_rapportage    15\n",
       "dtype: int64"
      ]
     },
     "execution_count": 16,
     "metadata": {},
     "output_type": "execute_result"
    }
   ],
   "source": [
    "data_rappels_naissances.isna().sum()"
   ]
  },
  {
   "cell_type": "markdown",
   "metadata": {},
   "source": [
    "#### Conversion de la colonne 'depassement_delai_rapportage' en entier\n",
    "Avant de convertir, on remplace les NAN par des zéros. "
   ]
  },
  {
   "cell_type": "code",
   "execution_count": 17,
   "metadata": {},
   "outputs": [],
   "source": [
    "data_rappels_naissances['depassement_delai_rapportage'] = data_rappels_naissances['depassement_delai_rapportage'].fillna(0)\n",
    "\n",
    "data_rappels_naissances['depassement_delai_rapportage'] = data_rappels_naissances['depassement_delai_rapportage'].astype(int)"
   ]
  },
  {
   "cell_type": "code",
   "execution_count": 18,
   "metadata": {},
   "outputs": [
    {
     "data": {
      "text/plain": [
       "17"
      ]
     },
     "execution_count": 18,
     "metadata": {},
     "output_type": "execute_result"
    }
   ],
   "source": [
    "len(data_rappels_naissances)"
   ]
  },
  {
   "cell_type": "code",
   "execution_count": null,
   "metadata": {},
   "outputs": [],
   "source": []
  }
 ],
 "metadata": {
  "kernelspec": {
   "display_name": "Python 3",
   "language": "python",
   "name": "python3"
  },
  "language_info": {
   "codemirror_mode": {
    "name": "ipython",
    "version": 3
   },
   "file_extension": ".py",
   "mimetype": "text/x-python",
   "name": "python",
   "nbconvert_exporter": "python",
   "pygments_lexer": "ipython3",
   "version": "3.7.4"
  }
 },
 "nbformat": 4,
 "nbformat_minor": 2
}
